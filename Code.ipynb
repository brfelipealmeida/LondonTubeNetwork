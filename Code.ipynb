{
 "cells": [
  {
   "cell_type": "markdown",
   "id": "b339d764-0b71-4b58-aa25-2c18fc28dfbd",
   "metadata": {
    "tags": []
   },
   "source": [
    "# Assessment\n",
    "### Urban Simulation\n",
    "---\n",
    "\n",
    "Felipe Santos Almeida @ucfnant\n",
    "\n",
    "SN: 21125032"
   ]
  },
  {
   "cell_type": "markdown",
   "id": "007fcbda-b8cb-43a8-8cdf-61f10cf72193",
   "metadata": {},
   "source": [
    "## Tips\n",
    "\n",
    "- Use table to summarise information\n",
    "- Part 1 and Part 2 are equally weighted\n",
    "- Put the code in the Git Hub\n",
    "- we need to use the networking from the practical 10"
   ]
  },
  {
   "cell_type": "markdown",
   "id": "ceb6821f-86fb-4654-959e-d9dc8c9cbd26",
   "metadata": {},
   "source": [
    "## Doubts"
   ]
  },
  {
   "cell_type": "markdown",
   "id": "d404f619-1968-4a17-8862-cedd50c7591f",
   "metadata": {},
   "source": [
    "- What is the difference between Betweenness Centrality and Topological Betweenness Centrality?\n",
    "- What is the purpose to understand diameter measure in a network? How is the best way to understand in London Underground?\n",
    "- What is the difference between Degree as a global measure and Degree centrality? Is it the same thing?\n",
    "- If I want to use the clustering as measure, I am not sure how to calculate that into the tube networking and also understand the meaning of this measures into tube networking as a global measure\n",
    "\n",
    "- Diameter is the longest shortest path\n",
    "\n",
    "\n",
    "- Can I affirm the clusttering is the oposite of degree( degree most vulnerable -  clustering less vulnerable)? maybe I can make this relationship because clustering is local measure and degree is a global measure\n",
    "\n",
    "\n",
    "- clustering is a local measure\n",
    "\n",
    "\n",
    "- degre and degree centrality are the same thing"
   ]
  },
  {
   "cell_type": "markdown",
   "id": "712b1278-8d0d-4905-a2f2-0c2cccf46129",
   "metadata": {
    "tags": []
   },
   "source": [
    "## Data loading, wrangling and pre-processing\n"
   ]
  },
  {
   "cell_type": "code",
   "execution_count": 32,
   "id": "9a9dc334-c1b1-42a3-ba69-8cdad110e6fc",
   "metadata": {},
   "outputs": [],
   "source": [
    "# Packages\n",
    "\n",
    "import pandas as pd\n",
    "import numpy as np\n",
    "import geopandas as gpd\n",
    "import networkx as nx\n",
    "import matplotlib.pyplot as plt\n",
    "from matplotlib.pyplot import cm\n",
    "import json\n",
    "import re\n",
    "from shapely.geometry import Point, LineString #this library is for manipulating geometric objects, and it is what geopandas uses to store geometries\n",
    "from scipy.spatial import distance\n",
    "import networkx as nx\n",
    "from operator import itemgetter"
   ]
  },
  {
   "cell_type": "code",
   "execution_count": 33,
   "id": "de0f1d7c-8169-4c4f-9167-4e300e4a3c9d",
   "metadata": {},
   "outputs": [],
   "source": [
    "#read in the data using geopandas\n",
    "stations = gpd.read_file('Data/tfl_stations.json')\n",
    "lines = gpd.read_file('Data/tfl_lines.json')"
   ]
  },
  {
   "cell_type": "code",
   "execution_count": 34,
   "id": "b5461785-6f74-4e9d-9610-bf4677798ba1",
   "metadata": {},
   "outputs": [],
   "source": [
    "#project data to British National Grid\n",
    "#we do this so we can work in meters\n",
    "stations = stations.to_crs(epsg = 27700)\n",
    "lines = lines.to_crs(epsg = 27700)"
   ]
  },
  {
   "cell_type": "code",
   "execution_count": 35,
   "id": "0667a498-ce69-44d7-8299-6a0fe6c0133e",
   "metadata": {},
   "outputs": [],
   "source": [
    "#get all station names\n",
    "station_names = {row.id: row['name'] for i, row in stations.iterrows()}"
   ]
  },
  {
   "cell_type": "code",
   "execution_count": 36,
   "id": "ff6818e4-9197-420d-978a-dd764bd69f09",
   "metadata": {},
   "outputs": [],
   "source": [
    "#clean station names\n",
    "for k, v in station_names.items():\n",
    "    if k == 'none':\n",
    "        continue\n",
    "    cleaned_name = re.sub('\\sLU\\s?|\\sLO\\s?|\\sNR\\s?|\\sTf[lL]\\s?|\\sDLR\\s?|\\s\\(.*\\)', '', v)\n",
    "    \n",
    "    #note that bank and monument are enconded as one station in our TFL data, so we will do the same\n",
    "    if cleaned_name in ['Bank', 'Monument']:\n",
    "        cleaned_name = 'Bank and Monument'\n",
    "    station_names[k] = cleaned_name\n",
    "    \n",
    "stations['name'] = stations['id'].apply(lambda x: station_names[x])"
   ]
  },
  {
   "cell_type": "code",
   "execution_count": 37,
   "id": "d8e1c9f7-a35b-4548-a9c3-2eecd89900db",
   "metadata": {},
   "outputs": [],
   "source": [
    "#get position of stations as mean of x, y of stations\n",
    "\n",
    "#create empty dict to store list of coordinates\n",
    "pos = {}\n",
    "\n",
    "#iterate through the stations\n",
    "for i, station in stations.iterrows():\n",
    "    xy = station.geometry.coords[0]\n",
    "    \n",
    "    #if station already in dict add coordinate to coordinate list\n",
    "    if station['name'] in pos.keys():\n",
    "        pos[station['name']].extend([xy])\n",
    "    #if station is not in the dict add station to dict and set first coordinate in list\n",
    "    else:\n",
    "        pos[station['name']] = [xy]\n",
    "\n",
    "#iterate through our dict and replace coordinate list with mean value\n",
    "for k, v in pos.items():\n",
    "    #we set axis to 0 to make sure to take mean of x and y coordinates\n",
    "    pos[k] = np.mean(v, axis=0)"
   ]
  },
  {
   "cell_type": "code",
   "execution_count": 38,
   "id": "fd55a20a-11e0-4aec-a602-7d7352720b08",
   "metadata": {},
   "outputs": [],
   "source": [
    "#set new geometry\n",
    "stations['geometry'] = stations['name'].apply(lambda x: Point(pos[x]))"
   ]
  },
  {
   "cell_type": "code",
   "execution_count": 39,
   "id": "2075ccbb-81a4-45e5-bc16-19200bbfe4e5",
   "metadata": {},
   "outputs": [
    {
     "data": {
      "text/plain": [
       "['Jubilee',\n",
       " 'East London',\n",
       " 'Metropolitan',\n",
       " 'Circle',\n",
       " 'Crossrail 2',\n",
       " 'Victoria',\n",
       " 'DLR',\n",
       " 'District',\n",
       " 'Hammersmith & City',\n",
       " 'TfL Rail',\n",
       " 'Bakerloo',\n",
       " 'London Overground',\n",
       " 'Crossrail',\n",
       " 'Northern',\n",
       " 'Piccadilly',\n",
       " 'Thameslink 6tph line',\n",
       " 'Central',\n",
       " 'Emirates Air Line',\n",
       " 'Waterloo & City',\n",
       " 'Tramlink']"
      ]
     },
     "execution_count": 39,
     "metadata": {},
     "output_type": "execute_result"
    }
   ],
   "source": [
    "#get all line types as a list and subset geoms by lines\n",
    "line_names  = lines.lines.apply(lambda x: [x['name'] for x in json.loads(x)] )\n",
    "line_names = list(set([item for sublist in line_names for item in sublist]))\n",
    "line_names"
   ]
  },
  {
   "cell_type": "code",
   "execution_count": 40,
   "id": "1cb8659f-8d9b-41b3-a858-863bb17bbad0",
   "metadata": {},
   "outputs": [],
   "source": [
    "#We can see that east london line is incomplete\n",
    "#digging into this however we notice that it's because east london is actually part of the overground\n",
    "#merge East London line and London Overground since they are one line\n",
    "lines.lines = lines.lines.str.replace('East London', 'London Overground')\n",
    "stations.lines = stations.lines.str.replace('East London', 'London Overground')"
   ]
  },
  {
   "cell_type": "code",
   "execution_count": 41,
   "id": "92338cd6-7790-407b-b786-13966266e017",
   "metadata": {},
   "outputs": [],
   "source": [
    "#Our TFL data doesn't include tramlink, emirates air lines, and crossrail is still in construction\n",
    "#exclude the lines that we are not going to use\n",
    "excluded_lines = ['Thameslink 6tph line', 'East London', 'Crossrail 2', 'Emirates Air Line', 'Crossrail', 'Tramlink']"
   ]
  },
  {
   "cell_type": "code",
   "execution_count": 42,
   "id": "b8b089e8-c4cb-4f1d-b6b8-951fd3c48006",
   "metadata": {},
   "outputs": [
    {
     "name": "stdout",
     "output_type": "stream",
     "text": [
      "Jubilee\n",
      "Metropolitan\n",
      "Circle\n",
      "Victoria\n",
      "DLR\n",
      "District\n",
      "Hammersmith & City\n",
      "TfL Rail\n",
      "Bakerloo\n",
      "London Overground\n",
      "Northern\n",
      "Piccadilly\n",
      "Central\n",
      "Waterloo & City\n"
     ]
    }
   ],
   "source": [
    "#create an empty dict to hold our geometric graphs\n",
    "geometric_graphs = {}\n",
    "\n",
    "#iterate through each line individually\n",
    "for line_name in line_names:\n",
    "    #skip lines that we won't be using\n",
    "    if line_name in excluded_lines :\n",
    "        continue\n",
    "    print(line_name)\n",
    "    \n",
    "    #subset our line and station files for the ones the belong to a specific line\n",
    "    temp_lines = lines[lines.lines.str.contains(line_name)]\n",
    "    temp_stations = stations[stations.lines.str.contains(line_name)]\n",
    "    \n",
    "    #create empty graph\n",
    "    G= nx.Graph()\n",
    "    \n",
    "    #iterate through our line geometries\n",
    "    for i, line in temp_lines.iterrows():\n",
    "        #get list of coordinates that define our line\n",
    "        _l = list(line.geometry.coords)\n",
    "\n",
    "        #add coordinates as edges\n",
    "        G.add_edges_from(list(zip(_l,_l[1:])))\n",
    "    \n",
    "    #remove any self loops\n",
    "    G.remove_edges_from(nx.selfloop_edges(G))\n",
    "    \n",
    "    #the position of the node is the name of the node\n",
    "    #let's extract this to plot our graph\n",
    "    pos = {n: n for n in G.nodes()}\n",
    "    \n",
    "    # get degree one nodes\n",
    "    D = nx.degree(G)\n",
    "    k1 = [node for node,degree in D if degree==1]\n",
    "    #let's plot our graph and all degree one nodes\n",
    "    #nx.draw(G, pos=pos, node_size=0.5, node_color='grey')\n",
    "   # nx.draw_networkx_nodes(G, pos=pos, nodelist=k1, node_color='red', node_size=8)\n",
    "   # plt.show()\n",
    "    \n",
    "    #get distance between all points of 1-degree, this will be a matrix\n",
    "    dist = distance.cdist(k1, k1)\n",
    "    \n",
    "    #add edges between points that are close\n",
    "    for j in range(dist.shape[0]-1):\n",
    "        temp = dist[j][j+1:]\n",
    "        #get index of closest node\n",
    "        i_min = np.argmin(temp)\n",
    "        if dist[j][i_min+j+1]<50:\n",
    "            G.add_edge(k1[j],k1[i_min+j+1])\n",
    "    \n",
    "    #recalculate degree\n",
    "    D = nx.degree(G)\n",
    "    k1 = [node for node,degree in D if degree==1]\n",
    "    #plot new graph\n",
    "   # nx.draw(G, pos=pos, node_size=0.5, node_color='grey')\n",
    "   # nx.draw_networkx_nodes(G, pos=pos, nodelist=k1, node_color='red', node_size=8)\n",
    "   # plt.show()\n",
    "  #  print(nx.number_connected_components(G))\n",
    "    #store graph in dictionary\n",
    "    geometric_graphs[line_name] = G\n"
   ]
  },
  {
   "cell_type": "code",
   "execution_count": 43,
   "id": "1bcffb0d-673d-4afd-a8ab-68f1fbc7bd75",
   "metadata": {},
   "outputs": [],
   "source": [
    "#create a dataframe with all geometries from all valid lines\n",
    "#this list will contain a dictionary for each edge in our graph that contains\n",
    "# node pairs, line name, and a geometry (this is just for quick visualization purposes and will be replaced by true geometry)\n",
    "edge_list = []\n",
    "def _has_ids(k):\n",
    "    #helper function to check if line contains id of start and end station\n",
    "    if ('start_sid' in k.keys()) and ('end_sid' in k.keys()):\n",
    "        return True\n",
    "    else:\n",
    "        return False\n",
    "\n",
    "#iterate through each line seperately \n",
    "for line_name in line_names:\n",
    "    if line_name in excluded_lines :\n",
    "        continue\n",
    "        \n",
    "    #subset lines and stations\n",
    "    temp_lines = lines[lines.lines.str.contains(line_name)]\n",
    "    temp_stations = stations[stations.lines.str.contains(line_name)]\n",
    "    \n",
    "    #for each line in our subset dataframe get each origin and destination pair\n",
    "    for i, line in temp_lines.iterrows():\n",
    "        for k in json.loads(line.lines):\n",
    "            if k['name'] == line_name:\n",
    "                if _has_ids(k):\n",
    "                    #get start and end station ids\n",
    "                    start_id = k['start_sid']\n",
    "                    end_id = k['end_sid']\n",
    "\n",
    "                    #get info of start and end station\n",
    "                    start_station = temp_stations[(temp_stations.id == start_id) | (temp_stations.altmodeid == start_id)].values\n",
    "                    end_station = temp_stations[(temp_stations.id == end_id) | (temp_stations.altmodeid == end_id)].values\n",
    "                    \n",
    "                    #if no matching station exist, let's just take the starting and ending coordinate of the line for now\n",
    "                    if len(start_station) >= 1 and len(end_station) >=1:\n",
    "                        s_geom = start_station[0][-1].coords[0]\n",
    "                        e_geom = end_station[0][-1].coords[0]\n",
    "                        edge_list.append({\n",
    "                            'line_name': line_name,\n",
    "                            'start_id': start_id,\n",
    "                            'end_id': end_id,\n",
    "                            'geometry': LineString([s_geom, e_geom])\n",
    "                        })"
   ]
  },
  {
   "cell_type": "code",
   "execution_count": 44,
   "id": "a996db85-9857-4c72-a8e4-0ec4039ce67c",
   "metadata": {},
   "outputs": [
    {
     "data": {
      "text/html": [
       "<div>\n",
       "<style scoped>\n",
       "    .dataframe tbody tr th:only-of-type {\n",
       "        vertical-align: middle;\n",
       "    }\n",
       "\n",
       "    .dataframe tbody tr th {\n",
       "        vertical-align: top;\n",
       "    }\n",
       "\n",
       "    .dataframe thead th {\n",
       "        text-align: right;\n",
       "    }\n",
       "</style>\n",
       "<table border=\"1\" class=\"dataframe\">\n",
       "  <thead>\n",
       "    <tr style=\"text-align: right;\">\n",
       "      <th></th>\n",
       "      <th>line_name</th>\n",
       "      <th>start_id</th>\n",
       "      <th>end_id</th>\n",
       "      <th>geometry</th>\n",
       "    </tr>\n",
       "  </thead>\n",
       "  <tbody>\n",
       "    <tr>\n",
       "      <th>0</th>\n",
       "      <td>Jubilee</td>\n",
       "      <td>940GZZLUWYP</td>\n",
       "      <td>940GZZLUKBY</td>\n",
       "      <td>LINESTRING (519316.559 186389.330, 519359.969 ...</td>\n",
       "    </tr>\n",
       "    <tr>\n",
       "      <th>1</th>\n",
       "      <td>Jubilee</td>\n",
       "      <td>940GZZLUKBY</td>\n",
       "      <td>940GZZLUQBY</td>\n",
       "      <td>LINESTRING (519359.969 188721.220, 518811.361 ...</td>\n",
       "    </tr>\n",
       "    <tr>\n",
       "      <th>2</th>\n",
       "      <td>Jubilee</td>\n",
       "      <td>940GZZLUQBY</td>\n",
       "      <td>940GZZLUCPK</td>\n",
       "      <td>LINESTRING (518811.361 189760.507, 518183.300 ...</td>\n",
       "    </tr>\n",
       "    <tr>\n",
       "      <th>3</th>\n",
       "      <td>Jubilee</td>\n",
       "      <td>940GZZLUCPK</td>\n",
       "      <td>940GZZLUSTM</td>\n",
       "      <td>LINESTRING (518183.300 191257.263, 517580.460 ...</td>\n",
       "    </tr>\n",
       "    <tr>\n",
       "      <th>4</th>\n",
       "      <td>Jubilee</td>\n",
       "      <td>940GZZLUSTD</td>\n",
       "      <td>940GZZLUWHM</td>\n",
       "      <td>LINESTRING (538524.786 184373.341, 539160.258 ...</td>\n",
       "    </tr>\n",
       "  </tbody>\n",
       "</table>\n",
       "</div>"
      ],
      "text/plain": [
       "  line_name     start_id       end_id  \\\n",
       "0   Jubilee  940GZZLUWYP  940GZZLUKBY   \n",
       "1   Jubilee  940GZZLUKBY  940GZZLUQBY   \n",
       "2   Jubilee  940GZZLUQBY  940GZZLUCPK   \n",
       "3   Jubilee  940GZZLUCPK  940GZZLUSTM   \n",
       "4   Jubilee  940GZZLUSTD  940GZZLUWHM   \n",
       "\n",
       "                                            geometry  \n",
       "0  LINESTRING (519316.559 186389.330, 519359.969 ...  \n",
       "1  LINESTRING (519359.969 188721.220, 518811.361 ...  \n",
       "2  LINESTRING (518811.361 189760.507, 518183.300 ...  \n",
       "3  LINESTRING (518183.300 191257.263, 517580.460 ...  \n",
       "4  LINESTRING (538524.786 184373.341, 539160.258 ...  "
      ]
     },
     "execution_count": 44,
     "metadata": {},
     "output_type": "execute_result"
    },
    {
     "data": {
      "image/png": "[encoded data removed]",
      "text/plain": [
       "<Figure size 432x288 with 1 Axes>"
      ]
     },
     "metadata": {
      "needs_background": "light"
     },
     "output_type": "display_data"
    }
   ],
   "source": [
    "#turn our dictionary list into a geopandas df to quickly plot and sanity check our work\n",
    "edge_gdf = gpd.GeoDataFrame(edge_list)\n",
    "edge_gdf.crs = lines.crs\n",
    "edge_gdf.plot()\n",
    "edge_gdf.head()"
   ]
  },
  {
   "cell_type": "code",
   "execution_count": 45,
   "id": "f522162b-87aa-4748-b9be-93ccbd338337",
   "metadata": {},
   "outputs": [],
   "source": [
    "### Add geometry information back into the graph\n",
    "for line_name in line_names:\n",
    "    if line_name in excluded_lines :\n",
    "        continue\n",
    "    temp_lines = edge_gdf[edge_gdf.line_name == line_name]\n",
    "    temp_stations = stations[stations.lines.str.contains(line_name)]\n",
    "    \n",
    "    #let's plot our lines so we can check them\n",
    "    #fig, ax = plt.subplots(figsize = (7,7))\n",
    "    #fig.suptitle(f'line: {line_name}')\n",
    "    #ax.set_aspect(\"equal\")\n",
    "    #ax.axis('off')\n",
    "    #ax.margins(0.1)\n",
    "    \n",
    "    #base = temp_lines.plot(ax=ax, color='grey')\n",
    "    #temp_stations.plot(ax=base, markersize=20, color='red')\n",
    "   # plt.show()\n",
    "    \n",
    "    #add real geometry back\n",
    "    for i, edge in temp_lines.iterrows():\n",
    "        #get start and end of line coordinates\n",
    "        start = edge.geometry.coords[0]\n",
    "        end = edge.geometry.coords[-1]\n",
    "        \n",
    "        #let's get all the coordinates in our geometric graph\n",
    "        nodes = list(geometric_graphs[line_name].nodes)\n",
    "        \n",
    "        #find nearest node in graph to origin and destination\n",
    "        s_dist = distance.cdist([start], nodes)[0]\n",
    "        s_i = np.argmin(s_dist)\n",
    "        source= nodes[s_i]\n",
    "        \n",
    "        t_dist = distance.cdist([end], nodes)[0]\n",
    "        t_i = np.argmin(t_dist)\n",
    "        target= nodes[t_i]\n",
    "        \n",
    "        #get shortest path\n",
    "        sp = nx.shortest_path(geometric_graphs[line_name], source, target)\n",
    "        \n",
    "        #make into geometry\n",
    "        #notice how I'm also adding the start and end coordinates to the line definition\n",
    "        #this fixes the problem of stations and lines not matching up\n",
    "        geometry = LineString([start] + sp + [end])\n",
    "        edge_gdf.loc[i, 'geometry'] = geometry"
   ]
  },
  {
   "cell_type": "code",
   "execution_count": 46,
   "id": "471de257-3e56-4f85-8225-3fd6cd5f8bd5",
   "metadata": {},
   "outputs": [
    {
     "data": {
      "text/plain": [
       "<AxesSubplot:>"
      ]
     },
     "execution_count": 46,
     "metadata": {},
     "output_type": "execute_result"
    },
    {
     "data": {
      "image/png": "[encoded data removed]",
      "text/plain": [
       "<Figure size 432x288 with 1 Axes>"
      ]
     },
     "metadata": {
      "needs_background": "light"
     },
     "output_type": "display_data"
    }
   ],
   "source": [
    "#plot to sanity check\n",
    "edge_gdf.plot()"
   ]
  },
  {
   "cell_type": "code",
   "execution_count": 47,
   "id": "6e4d7f19-445e-451b-9334-e4eebbfce924",
   "metadata": {},
   "outputs": [],
   "source": [
    "#let's store the length of the real geometry\n",
    "edge_gdf['length'] = edge_gdf.geometry.length"
   ]
  },
  {
   "cell_type": "code",
   "execution_count": 48,
   "id": "4f0838dc-d4a1-40bb-8250-e44629873803",
   "metadata": {},
   "outputs": [
    {
     "data": {
      "text/html": [
       "<div>\n",
       "<style scoped>\n",
       "    .dataframe tbody tr th:only-of-type {\n",
       "        vertical-align: middle;\n",
       "    }\n",
       "\n",
       "    .dataframe tbody tr th {\n",
       "        vertical-align: top;\n",
       "    }\n",
       "\n",
       "    .dataframe thead th {\n",
       "        text-align: right;\n",
       "    }\n",
       "</style>\n",
       "<table border=\"1\" class=\"dataframe\">\n",
       "  <thead>\n",
       "    <tr style=\"text-align: right;\">\n",
       "      <th></th>\n",
       "      <th>line_name</th>\n",
       "      <th>start_id</th>\n",
       "      <th>end_id</th>\n",
       "      <th>geometry</th>\n",
       "      <th>length</th>\n",
       "    </tr>\n",
       "  </thead>\n",
       "  <tbody>\n",
       "    <tr>\n",
       "      <th>0</th>\n",
       "      <td>Jubilee</td>\n",
       "      <td>940GZZLUWYP</td>\n",
       "      <td>940GZZLUKBY</td>\n",
       "      <td>LINESTRING (519316.559 186389.330, 519317.885 ...</td>\n",
       "      <td>2916.771558</td>\n",
       "    </tr>\n",
       "    <tr>\n",
       "      <th>1</th>\n",
       "      <td>Jubilee</td>\n",
       "      <td>940GZZLUKBY</td>\n",
       "      <td>940GZZLUQBY</td>\n",
       "      <td>LINESTRING (519359.969 188721.220, 519360.337 ...</td>\n",
       "      <td>1245.995234</td>\n",
       "    </tr>\n",
       "    <tr>\n",
       "      <th>2</th>\n",
       "      <td>Jubilee</td>\n",
       "      <td>940GZZLUQBY</td>\n",
       "      <td>940GZZLUCPK</td>\n",
       "      <td>LINESTRING (518811.361 189760.507, 518812.641 ...</td>\n",
       "      <td>1693.307343</td>\n",
       "    </tr>\n",
       "    <tr>\n",
       "      <th>3</th>\n",
       "      <td>Jubilee</td>\n",
       "      <td>940GZZLUCPK</td>\n",
       "      <td>940GZZLUSTM</td>\n",
       "      <td>LINESTRING (518183.300 191257.263, 518182.820 ...</td>\n",
       "      <td>1419.669476</td>\n",
       "    </tr>\n",
       "    <tr>\n",
       "      <th>4</th>\n",
       "      <td>Jubilee</td>\n",
       "      <td>940GZZLUSTD</td>\n",
       "      <td>940GZZLUWHM</td>\n",
       "      <td>LINESTRING (538524.786 184373.341, 538525.380 ...</td>\n",
       "      <td>1673.509515</td>\n",
       "    </tr>\n",
       "  </tbody>\n",
       "</table>\n",
       "</div>"
      ],
      "text/plain": [
       "  line_name     start_id       end_id  \\\n",
       "0   Jubilee  940GZZLUWYP  940GZZLUKBY   \n",
       "1   Jubilee  940GZZLUKBY  940GZZLUQBY   \n",
       "2   Jubilee  940GZZLUQBY  940GZZLUCPK   \n",
       "3   Jubilee  940GZZLUCPK  940GZZLUSTM   \n",
       "4   Jubilee  940GZZLUSTD  940GZZLUWHM   \n",
       "\n",
       "                                            geometry       length  \n",
       "0  LINESTRING (519316.559 186389.330, 519317.885 ...  2916.771558  \n",
       "1  LINESTRING (519359.969 188721.220, 519360.337 ...  1245.995234  \n",
       "2  LINESTRING (518811.361 189760.507, 518812.641 ...  1693.307343  \n",
       "3  LINESTRING (518183.300 191257.263, 518182.820 ...  1419.669476  \n",
       "4  LINESTRING (538524.786 184373.341, 538525.380 ...  1673.509515  "
      ]
     },
     "execution_count": 48,
     "metadata": {},
     "output_type": "execute_result"
    }
   ],
   "source": [
    "#this is our resulting dataframe\n",
    "edge_gdf.head()"
   ]
  },
  {
   "cell_type": "code",
   "execution_count": 49,
   "id": "f552ce22-7db7-486f-9a44-96f464bb0fc6",
   "metadata": {},
   "outputs": [],
   "source": [
    "#let's replace the ids with the actual nane\n",
    "#get all station names\n",
    "station_names_2 = {row.altmodeid: row['name'] for i, row in stations.iterrows() if row.altmodeid != None}\n",
    "station_names.update(station_names_2)"
   ]
  },
  {
   "cell_type": "code",
   "execution_count": 50,
   "id": "be209ee7-d2ce-4d29-b010-74af9f31e14e",
   "metadata": {},
   "outputs": [],
   "source": [
    "edge_gdf['start_id'] = edge_gdf['start_id'].apply(lambda x: station_names[x])\n",
    "edge_gdf['end_id'] = edge_gdf['end_id'].apply(lambda x: station_names[x])"
   ]
  },
  {
   "cell_type": "code",
   "execution_count": 51,
   "id": "d643faa5-2f74-409a-939e-074a8990e0b0",
   "metadata": {},
   "outputs": [
    {
     "data": {
      "text/html": [
       "<div>\n",
       "<style scoped>\n",
       "    .dataframe tbody tr th:only-of-type {\n",
       "        vertical-align: middle;\n",
       "    }\n",
       "\n",
       "    .dataframe tbody tr th {\n",
       "        vertical-align: top;\n",
       "    }\n",
       "\n",
       "    .dataframe thead th {\n",
       "        text-align: right;\n",
       "    }\n",
       "</style>\n",
       "<table border=\"1\" class=\"dataframe\">\n",
       "  <thead>\n",
       "    <tr style=\"text-align: right;\">\n",
       "      <th></th>\n",
       "      <th>line_name</th>\n",
       "      <th>start_id</th>\n",
       "      <th>end_id</th>\n",
       "      <th>geometry</th>\n",
       "      <th>length</th>\n",
       "    </tr>\n",
       "  </thead>\n",
       "  <tbody>\n",
       "    <tr>\n",
       "      <th>0</th>\n",
       "      <td>Jubilee</td>\n",
       "      <td>Wembley Park</td>\n",
       "      <td>Kingsbury</td>\n",
       "      <td>LINESTRING (519316.559 186389.330, 519317.885 ...</td>\n",
       "      <td>2916.771558</td>\n",
       "    </tr>\n",
       "    <tr>\n",
       "      <th>1</th>\n",
       "      <td>Jubilee</td>\n",
       "      <td>Kingsbury</td>\n",
       "      <td>Queensbury</td>\n",
       "      <td>LINESTRING (519359.969 188721.220, 519360.337 ...</td>\n",
       "      <td>1245.995234</td>\n",
       "    </tr>\n",
       "    <tr>\n",
       "      <th>2</th>\n",
       "      <td>Jubilee</td>\n",
       "      <td>Queensbury</td>\n",
       "      <td>Canons Park</td>\n",
       "      <td>LINESTRING (518811.361 189760.507, 518812.641 ...</td>\n",
       "      <td>1693.307343</td>\n",
       "    </tr>\n",
       "    <tr>\n",
       "      <th>3</th>\n",
       "      <td>Jubilee</td>\n",
       "      <td>Canons Park</td>\n",
       "      <td>Stanmore</td>\n",
       "      <td>LINESTRING (518183.300 191257.263, 518182.820 ...</td>\n",
       "      <td>1419.669476</td>\n",
       "    </tr>\n",
       "    <tr>\n",
       "      <th>4</th>\n",
       "      <td>Jubilee</td>\n",
       "      <td>Stratford</td>\n",
       "      <td>West Ham</td>\n",
       "      <td>LINESTRING (538524.786 184373.341, 538525.380 ...</td>\n",
       "      <td>1673.509515</td>\n",
       "    </tr>\n",
       "  </tbody>\n",
       "</table>\n",
       "</div>"
      ],
      "text/plain": [
       "  line_name      start_id       end_id  \\\n",
       "0   Jubilee  Wembley Park    Kingsbury   \n",
       "1   Jubilee     Kingsbury   Queensbury   \n",
       "2   Jubilee    Queensbury  Canons Park   \n",
       "3   Jubilee   Canons Park     Stanmore   \n",
       "4   Jubilee     Stratford     West Ham   \n",
       "\n",
       "                                            geometry       length  \n",
       "0  LINESTRING (519316.559 186389.330, 519317.885 ...  2916.771558  \n",
       "1  LINESTRING (519359.969 188721.220, 519360.337 ...  1245.995234  \n",
       "2  LINESTRING (518811.361 189760.507, 518812.641 ...  1693.307343  \n",
       "3  LINESTRING (518183.300 191257.263, 518182.820 ...  1419.669476  \n",
       "4  LINESTRING (538524.786 184373.341, 538525.380 ...  1673.509515  "
      ]
     },
     "execution_count": 51,
     "metadata": {},
     "output_type": "execute_result"
    }
   ],
   "source": [
    "edge_gdf.head()"
   ]
  },
  {
   "cell_type": "code",
   "execution_count": 52,
   "id": "f7db7bd3-9801-4442-8a46-c7248bc40dd7",
   "metadata": {},
   "outputs": [],
   "source": [
    "#now we can use this to create our network!\n",
    "G = nx.from_pandas_edgelist(edge_gdf, source = 'start_id', target='end_id', edge_attr=['length', 'line_name'])"
   ]
  },
  {
   "cell_type": "code",
   "execution_count": 53,
   "id": "2159364c-b0aa-47c7-8cc7-8352b17a9e2c",
   "metadata": {},
   "outputs": [
    {
     "name": "stdout",
     "output_type": "stream",
     "text": [
      "{'Jubilee', 'London Overground', 'DLR', 'Piccadilly', 'Metropolitan', 'Central', 'Circle', 'District', 'Waterloo & City', 'Victoria', 'Hammersmith & City', 'TfL Rail', 'Bakerloo', 'Northern'}\n"
     ]
    },
    {
     "data": {
      "image/png": "[encoded data removed]",
      "text/plain": [
       "<Figure size 432x288 with 1 Axes>"
      ]
     },
     "metadata": {},
     "output_type": "display_data"
    }
   ],
   "source": [
    "#let's plot\n",
    "#notice that even though we created the real geometries, the graph still plots just straight line\n",
    "#this is because networkx doesn't have a concept of a edge geometry\n",
    "#however this is ok, since we only need the distance as weights, and that is already an attribute in our graph\n",
    "pos = {row['name']: row.geometry.coords[0] for i, row in stations.iterrows() if row['name'] in G.nodes()}\n",
    "Gcc = nx.connected_components(G)\n",
    "for n in Gcc:\n",
    "    G_sub = G.subgraph(n)\n",
    "    lines = [data['line_name'] for u,v, data in G_sub.edges(data=True)]\n",
    "    print(set(lines))\n",
    "    nx.draw(G_sub, pos, node_size=4)\n",
    "    plt.show()"
   ]
  },
  {
   "cell_type": "code",
   "execution_count": 27,
   "id": "83708eec-5dd3-4cdd-8c7a-526a09c82d1d",
   "metadata": {},
   "outputs": [],
   "source": [
    "#save position to graph\n",
    "nx.set_node_attributes(G, pos, 'coords')"
   ]
  },
  {
   "cell_type": "markdown",
   "id": "514797ba-aa00-4cca-b4d2-e40b0a74a20e",
   "metadata": {
    "tags": []
   },
   "source": [
    "## Part 1: London’s underground resilience"
   ]
  },
  {
   "cell_type": "markdown",
   "id": "7201d048-e089-42df-b2af-5761bf1ca4cb",
   "metadata": {
    "tags": []
   },
   "source": [
    "### 1. Topological network"
   ]
  },
  {
   "cell_type": "markdown",
   "id": "4b8b682b-bdca-45af-9b4a-25c675acee86",
   "metadata": {},
   "source": [
    "you will investigate which are the stations that are most critical for the functioning of the underground, and which methodology is more appropriate to finding these stations.\n",
    "\n",
    "- Lenght"
   ]
  },
  {
   "cell_type": "markdown",
   "id": "041cdf33-6455-4715-ae1f-32514796a99a",
   "metadata": {
    "tags": []
   },
   "source": [
    "#### 1.1. Centrality measures:"
   ]
  },
  {
   "cell_type": "markdown",
   "id": "e938f2a2-0f8e-4688-b110-49fa22d11bce",
   "metadata": {},
   "source": [
    "1. Select 3 centrality measures to characterise nodes\n",
    "    * 3 centralities measures :  degree centrality, closeness centrality and betweenness centrality\n",
    "2. Give the definition of each of the measures (including their equation)\n",
    "    - **Degree Centrality:** the number of links associated to a node \n",
    "    - **Closeness centrality:** the shortest path to all nodes in the system\n",
    "    - **Betweenness centrality:** The shortest path passing through a node\n",
    "3. Compute the measures for your nodes in the network\n",
    "4. give the results in a table for the first 10 ranked nodes for each of the 3 measures.\n",
    "\n",
    "\n",
    "\n",
    "* I need to give the context of each meaning in the tube network"
   ]
  },
  {
   "cell_type": "markdown",
   "id": "850d7e80-1aaa-41a5-a528-9b9599b36a6b",
   "metadata": {
    "tags": []
   },
   "source": [
    "##### Degree Centrality\n",
    "\n",
    "The number of links associated to a node"
   ]
  },
  {
   "cell_type": "code",
   "execution_count": 28,
   "id": "8f6a845e-6f3c-4822-90ca-fa9fb1dccda3",
   "metadata": {},
   "outputs": [
    {
     "data": {
      "text/html": [
       "<div>\n",
       "<style scoped>\n",
       "    .dataframe tbody tr th:only-of-type {\n",
       "        vertical-align: middle;\n",
       "    }\n",
       "\n",
       "    .dataframe tbody tr th {\n",
       "        vertical-align: top;\n",
       "    }\n",
       "\n",
       "    .dataframe thead th {\n",
       "        text-align: right;\n",
       "    }\n",
       "</style>\n",
       "<table border=\"1\" class=\"dataframe\">\n",
       "  <thead>\n",
       "    <tr style=\"text-align: right;\">\n",
       "      <th></th>\n",
       "      <th>degree</th>\n",
       "    </tr>\n",
       "  </thead>\n",
       "  <tbody>\n",
       "    <tr>\n",
       "      <th>Stratford</th>\n",
       "      <td>0.0225</td>\n",
       "    </tr>\n",
       "    <tr>\n",
       "      <th>Bank and Monument</th>\n",
       "      <td>0.0200</td>\n",
       "    </tr>\n",
       "    <tr>\n",
       "      <th>Baker Street</th>\n",
       "      <td>0.0175</td>\n",
       "    </tr>\n",
       "    <tr>\n",
       "      <th>King's Cross St. Pancras</th>\n",
       "      <td>0.0175</td>\n",
       "    </tr>\n",
       "    <tr>\n",
       "      <th>Green Park</th>\n",
       "      <td>0.0150</td>\n",
       "    </tr>\n",
       "    <tr>\n",
       "      <th>Liverpool Street</th>\n",
       "      <td>0.0150</td>\n",
       "    </tr>\n",
       "    <tr>\n",
       "      <th>West Ham</th>\n",
       "      <td>0.0150</td>\n",
       "    </tr>\n",
       "    <tr>\n",
       "      <th>Canning Town</th>\n",
       "      <td>0.0150</td>\n",
       "    </tr>\n",
       "    <tr>\n",
       "      <th>Earl's Court</th>\n",
       "      <td>0.0150</td>\n",
       "    </tr>\n",
       "    <tr>\n",
       "      <th>Oxford Circus</th>\n",
       "      <td>0.0150</td>\n",
       "    </tr>\n",
       "  </tbody>\n",
       "</table>\n",
       "</div>"
      ],
      "text/plain": [
       "                          degree\n",
       "Stratford                 0.0225\n",
       "Bank and Monument         0.0200\n",
       "Baker Street              0.0175\n",
       "King's Cross St. Pancras  0.0175\n",
       "Green Park                0.0150\n",
       "Liverpool Street          0.0150\n",
       "West Ham                  0.0150\n",
       "Canning Town              0.0150\n",
       "Earl's Court              0.0150\n",
       "Oxford Circus             0.0150"
      ]
     },
     "execution_count": 28,
     "metadata": {},
     "output_type": "execute_result"
    }
   ],
   "source": [
    "#  We can calculate the degree centrality using networkx function:\n",
    "deg_london =nx.degree_centrality(G)\n",
    "nx.set_node_attributes(G,dict(deg_london),'degree')\n",
    "\n",
    "# To dataframe using the nodes as the index\n",
    "df_dg = pd.DataFrame(index=G.nodes())\n",
    "#df['station_name'] = pd.Series(nx.get_node_attributes(G, 'station_name'))\n",
    "df_dg['degree'] = pd.Series(nx.get_node_attributes(G, 'degree'))\n",
    "\n",
    "df_dg = df_dg.sort_values([\"degree\"], ascending=False)\n",
    "df_dg[0:10]"
   ]
  },
  {
   "cell_type": "code",
   "execution_count": 103,
   "id": "fed995af-f5d0-4072-b2a5-f55fa3cb49d5",
   "metadata": {},
   "outputs": [
    {
     "data": {
      "image/png": "[encoded data removed]",
      "text/plain": [
       "<Figure size 864x864 with 2 Axes>"
      ]
     },
     "metadata": {
      "needs_background": "light"
     },
     "output_type": "display_data"
    }
   ],
   "source": [
    "# Lets set colour and size of nodes according to betweenness values\n",
    "degree_values=[(i[1]['degree']) for i in G.nodes(data=True)]\n",
    "\n",
    "deg_color=[(i[1]['degree']/(max(degree_values))) for i in G.nodes(data=True)]\n",
    "deg_size=[(i[1]['degree']/(max(degree_values)))*50 for i in G.nodes(data=True)]\n",
    "\n",
    "\n",
    "\n",
    "# Plot graph\n",
    "\n",
    "pos=pos\n",
    "\n",
    "fig, ax = plt.subplots(figsize=(12,12))\n",
    "\n",
    "\n",
    "nx.draw_networkx_edges(G, pos,edge_color='gray', \n",
    "        width=0.4)\n",
    "nod=nx.draw_networkx_nodes(G,\n",
    "        pos = pos,\n",
    "        node_color= deg_color,\n",
    "        node_size= deg_size)\n",
    "\n",
    "plt.colorbar(nod,label=\"Degree Centrality\",orientation=\"horizontal\", shrink=0.5)\n",
    "plt.axis(\"off\")\n",
    "plt.title(\"London tube degree centrality\",fontsize=15)\n",
    "plt.show()"
   ]
  },
  {
   "cell_type": "markdown",
   "id": "be71f464-bdcc-4e36-9d8c-2354a25871ec",
   "metadata": {
    "tags": []
   },
   "source": [
    "##### Closeness Centrality\n",
    "\n",
    "The shortest path to all nodes in the system"
   ]
  },
  {
   "cell_type": "code",
   "execution_count": 104,
   "id": "1c6b868e-37ee-40fb-994c-59fe5b29c7e7",
   "metadata": {},
   "outputs": [
    {
     "data": {
      "text/html": [
       "<div>\n",
       "<style scoped>\n",
       "    .dataframe tbody tr th:only-of-type {\n",
       "        vertical-align: middle;\n",
       "    }\n",
       "\n",
       "    .dataframe tbody tr th {\n",
       "        vertical-align: top;\n",
       "    }\n",
       "\n",
       "    .dataframe thead th {\n",
       "        text-align: right;\n",
       "    }\n",
       "</style>\n",
       "<table border=\"1\" class=\"dataframe\">\n",
       "  <thead>\n",
       "    <tr style=\"text-align: right;\">\n",
       "      <th></th>\n",
       "      <th>closeness</th>\n",
       "    </tr>\n",
       "  </thead>\n",
       "  <tbody>\n",
       "    <tr>\n",
       "      <th>Green Park</th>\n",
       "      <td>0.114778</td>\n",
       "    </tr>\n",
       "    <tr>\n",
       "      <th>Bank and Monument</th>\n",
       "      <td>0.113572</td>\n",
       "    </tr>\n",
       "    <tr>\n",
       "      <th>King's Cross St. Pancras</th>\n",
       "      <td>0.113443</td>\n",
       "    </tr>\n",
       "    <tr>\n",
       "      <th>Westminster</th>\n",
       "      <td>0.112549</td>\n",
       "    </tr>\n",
       "    <tr>\n",
       "      <th>Waterloo</th>\n",
       "      <td>0.112265</td>\n",
       "    </tr>\n",
       "    <tr>\n",
       "      <th>Oxford Circus</th>\n",
       "      <td>0.111204</td>\n",
       "    </tr>\n",
       "    <tr>\n",
       "      <th>Bond Street</th>\n",
       "      <td>0.110988</td>\n",
       "    </tr>\n",
       "    <tr>\n",
       "      <th>Farringdon</th>\n",
       "      <td>0.110742</td>\n",
       "    </tr>\n",
       "    <tr>\n",
       "      <th>Angel</th>\n",
       "      <td>0.110742</td>\n",
       "    </tr>\n",
       "    <tr>\n",
       "      <th>Moorgate</th>\n",
       "      <td>0.110314</td>\n",
       "    </tr>\n",
       "  </tbody>\n",
       "</table>\n",
       "</div>"
      ],
      "text/plain": [
       "                          closeness\n",
       "Green Park                 0.114778\n",
       "Bank and Monument          0.113572\n",
       "King's Cross St. Pancras   0.113443\n",
       "Westminster                0.112549\n",
       "Waterloo                   0.112265\n",
       "Oxford Circus              0.111204\n",
       "Bond Street                0.110988\n",
       "Farringdon                 0.110742\n",
       "Angel                      0.110742\n",
       "Moorgate                   0.110314"
      ]
     },
     "execution_count": 104,
     "metadata": {},
     "output_type": "execute_result"
    }
   ],
   "source": [
    "#Topological closeness centrality: \n",
    "clos_w=nx.closeness_centrality(G)\n",
    "# We can add these values to the nodes attributes:\n",
    "nx.set_node_attributes(G,clos_w,'closeness')\n",
    "\n",
    "# To ataframe using the nodes as the index\n",
    "df_cl = pd.DataFrame(index=G.nodes())\n",
    "#df_cl['station_name'] = pd.Series(nx.get_node_attributes(G, 'station_name'))\n",
    "df_cl['closeness'] = pd.Series(nx.get_node_attributes(G, 'closeness'))\n",
    "\n",
    "df_cl = df_cl.sort_values([\"closeness\"], ascending=False)\n",
    "df_cl[0:10]"
   ]
  },
  {
   "cell_type": "code",
   "execution_count": 105,
   "id": "69aa348e-99cd-4896-a277-8c9dce79dada",
   "metadata": {},
   "outputs": [
    {
     "data": {
      "image/png": "[encoded data removed]",
      "text/plain": [
       "<Figure size 864x864 with 2 Axes>"
      ]
     },
     "metadata": {
      "needs_background": "light"
     },
     "output_type": "display_data"
    }
   ],
   "source": [
    "# Lets set color and width of nodes according to the closeness values\n",
    "\n",
    "clos_w_val=[(i[1]['closeness']) for i in G.nodes(data=True)]\n",
    "\n",
    "closs_w_color=[(i[1]['closeness']-min(clos_w_val))/(max(clos_w_val)-min(clos_w_val)) for i in G.nodes(data=True)]\n",
    "closs_w_size=[((i[1]['closeness']-min(clos_w_val))/(max(clos_w_val)-min(clos_w_val))*50) for i in G.nodes(data=True)]\n",
    "\n",
    "# Plot graph\n",
    "fig, ax = plt.subplots(figsize=(12,12))\n",
    "\n",
    "nx.draw_networkx_edges(G, pos,edge_color='gray', \n",
    "        width=0.4)\n",
    "\n",
    "nod=nx.draw_networkx_nodes(G,\n",
    "        pos = pos,\n",
    "        node_color= closs_w_color,\n",
    "        node_size= closs_w_size)\n",
    "\n",
    "plt.colorbar(nod,label=\"Closeness Centrality\",orientation=\"horizontal\", shrink=0.5)\n",
    "plt.axis(\"off\")\n",
    "plt.title(\"London tube topological closeness centrality\",fontsize=15)\n",
    "plt.show()"
   ]
  },
  {
   "cell_type": "markdown",
   "id": "4a52166f-a879-4cb2-9876-f47bc27b0dfb",
   "metadata": {
    "tags": []
   },
   "source": [
    "##### Betweenness Centrality\n",
    "\n",
    "The way of detecting the amount of influence a node has over the flow of information in a graph. It is often used to find nodes that serve as a bridge from one part of a graph to another. The algorithm calculates shortest paths between all pairs of nodes in a graph. It tell us the importance of a node."
   ]
  },
  {
   "cell_type": "code",
   "execution_count": 106,
   "id": "1b25925c-ab93-47b6-a1cd-a9940355a976",
   "metadata": {},
   "outputs": [
    {
     "data": {
      "text/html": [
       "<div>\n",
       "<style scoped>\n",
       "    .dataframe tbody tr th:only-of-type {\n",
       "        vertical-align: middle;\n",
       "    }\n",
       "\n",
       "    .dataframe tbody tr th {\n",
       "        vertical-align: top;\n",
       "    }\n",
       "\n",
       "    .dataframe thead th {\n",
       "        text-align: right;\n",
       "    }\n",
       "</style>\n",
       "<table border=\"1\" class=\"dataframe\">\n",
       "  <thead>\n",
       "    <tr style=\"text-align: right;\">\n",
       "      <th></th>\n",
       "      <th>betweenness</th>\n",
       "    </tr>\n",
       "  </thead>\n",
       "  <tbody>\n",
       "    <tr>\n",
       "      <th>Stratford</th>\n",
       "      <td>0.297846</td>\n",
       "    </tr>\n",
       "    <tr>\n",
       "      <th>Bank and Monument</th>\n",
       "      <td>0.290489</td>\n",
       "    </tr>\n",
       "    <tr>\n",
       "      <th>Liverpool Street</th>\n",
       "      <td>0.270807</td>\n",
       "    </tr>\n",
       "    <tr>\n",
       "      <th>King's Cross St. Pancras</th>\n",
       "      <td>0.255307</td>\n",
       "    </tr>\n",
       "    <tr>\n",
       "      <th>Waterloo</th>\n",
       "      <td>0.243921</td>\n",
       "    </tr>\n",
       "    <tr>\n",
       "      <th>Green Park</th>\n",
       "      <td>0.215835</td>\n",
       "    </tr>\n",
       "    <tr>\n",
       "      <th>Euston</th>\n",
       "      <td>0.208324</td>\n",
       "    </tr>\n",
       "    <tr>\n",
       "      <th>Westminster</th>\n",
       "      <td>0.203335</td>\n",
       "    </tr>\n",
       "    <tr>\n",
       "      <th>Baker Street</th>\n",
       "      <td>0.191568</td>\n",
       "    </tr>\n",
       "    <tr>\n",
       "      <th>Finchley Road</th>\n",
       "      <td>0.165085</td>\n",
       "    </tr>\n",
       "  </tbody>\n",
       "</table>\n",
       "</div>"
      ],
      "text/plain": [
       "                          betweenness\n",
       "Stratford                    0.297846\n",
       "Bank and Monument            0.290489\n",
       "Liverpool Street             0.270807\n",
       "King's Cross St. Pancras     0.255307\n",
       "Waterloo                     0.243921\n",
       "Green Park                   0.215835\n",
       "Euston                       0.208324\n",
       "Westminster                  0.203335\n",
       "Baker Street                 0.191568\n",
       "Finchley Road                0.165085"
      ]
     },
     "execution_count": 106,
     "metadata": {},
     "output_type": "execute_result"
    }
   ],
   "source": [
    "### Topological betweenness centrality:\n",
    "\n",
    "#Let us compute the betweenness centrality for the network, without using weights:\n",
    "bet_london_t=nx.betweenness_centrality(G)\n",
    "# We can add these values to the nodes attributes:\n",
    "nx.set_node_attributes(G,bet_london_t,'betweenness')\n",
    "\n",
    "# To dataframe using the nodes as the index\n",
    "df_bt = pd.DataFrame(index=G.nodes())\n",
    "# df['station_name'] = pd.Series(nx.get_node_attributes(G, 'station_name'))\n",
    "df_bt['betweenness'] = pd.Series(nx.get_node_attributes(G, 'betweenness'))\n",
    "\n",
    "df_bt= df_bt.sort_values([\"betweenness\"], ascending=False)\n",
    "df_bt[0:10]\n"
   ]
  },
  {
   "cell_type": "code",
   "execution_count": 107,
   "id": "d0f5a54d-4b95-404a-b3bc-42d6974877ca",
   "metadata": {},
   "outputs": [
    {
     "data": {
      "image/png": "[encoded data removed]",
      "text/plain": [
       "<Figure size 864x864 with 2 Axes>"
      ]
     },
     "metadata": {
      "needs_background": "light"
     },
     "output_type": "display_data"
    }
   ],
   "source": [
    "# Lets set colour and size of nodes according to betweenness values\n",
    "betweenness_t_values=[(i[1]['betweenness']) for i in G.nodes(data=True)]\n",
    "\n",
    "bet_t_color=[(i[1]['betweenness']/max(betweenness_t_values)) for i in G.nodes(data=True)]\n",
    "bet_t_size=[(i[1]['betweenness']/max(betweenness_t_values))*100 for i in G.nodes(data=True)]\n",
    "\n",
    "# Plot graph\n",
    "fig, ax = plt.subplots(figsize=(12,12))\n",
    "\n",
    "nx.draw_networkx_edges(G, pos,edge_color='gray', width=0.4)\n",
    "\n",
    "nod=nx.draw_networkx_nodes(G, pos = pos, node_color= bet_t_color, node_size= bet_t_size)\n",
    "\n",
    "plt.colorbar(nod,label=\"Betweenness Centrality\",orientation=\"horizontal\", shrink=0.5)\n",
    "plt.axis(\"off\")\n",
    "plt.title(\"London tube topological betweenness centrality\",fontsize=15)\n",
    "plt.show()"
   ]
  },
  {
   "cell_type": "markdown",
   "id": "4d8abd82-bd31-4596-8d6e-0d086a16061a",
   "metadata": {
    "jp-MarkdownHeadingCollapsed": true,
    "tags": []
   },
   "source": [
    "##### Summarizing"
   ]
  },
  {
   "cell_type": "code",
   "execution_count": 90,
   "id": "3a6ff581-5941-470c-b5f7-f2e1112cdb19",
   "metadata": {},
   "outputs": [
    {
     "data": {
      "text/html": [
       "<div>\n",
       "<style scoped>\n",
       "    .dataframe tbody tr th:only-of-type {\n",
       "        vertical-align: middle;\n",
       "    }\n",
       "\n",
       "    .dataframe tbody tr th {\n",
       "        vertical-align: top;\n",
       "    }\n",
       "\n",
       "    .dataframe thead th {\n",
       "        text-align: right;\n",
       "    }\n",
       "</style>\n",
       "<table border=\"1\" class=\"dataframe\">\n",
       "  <thead>\n",
       "    <tr style=\"text-align: right;\">\n",
       "      <th></th>\n",
       "      <th>degree</th>\n",
       "      <th>closeness</th>\n",
       "      <th>betweenness_t</th>\n",
       "    </tr>\n",
       "  </thead>\n",
       "  <tbody>\n",
       "    <tr>\n",
       "      <th>Harrow &amp; Wealdstone</th>\n",
       "      <td>0.0050</td>\n",
       "      <td>0.056625</td>\n",
       "      <td>0.029624</td>\n",
       "    </tr>\n",
       "    <tr>\n",
       "      <th>Kenton</th>\n",
       "      <td>0.0050</td>\n",
       "      <td>0.059907</td>\n",
       "      <td>0.034474</td>\n",
       "    </tr>\n",
       "    <tr>\n",
       "      <th>South Kenton</th>\n",
       "      <td>0.0050</td>\n",
       "      <td>0.063573</td>\n",
       "      <td>0.039298</td>\n",
       "    </tr>\n",
       "    <tr>\n",
       "      <th>North Wembley</th>\n",
       "      <td>0.0050</td>\n",
       "      <td>0.067693</td>\n",
       "      <td>0.044098</td>\n",
       "    </tr>\n",
       "    <tr>\n",
       "      <th>Wembley Central</th>\n",
       "      <td>0.0050</td>\n",
       "      <td>0.072359</td>\n",
       "      <td>0.048872</td>\n",
       "    </tr>\n",
       "    <tr>\n",
       "      <th>...</th>\n",
       "      <td>...</td>\n",
       "      <td>...</td>\n",
       "      <td>...</td>\n",
       "    </tr>\n",
       "    <tr>\n",
       "      <th>Hounslow East</th>\n",
       "      <td>0.0050</td>\n",
       "      <td>0.054787</td>\n",
       "      <td>0.029624</td>\n",
       "    </tr>\n",
       "    <tr>\n",
       "      <th>Osterley</th>\n",
       "      <td>0.0050</td>\n",
       "      <td>0.057854</td>\n",
       "      <td>0.034474</td>\n",
       "    </tr>\n",
       "    <tr>\n",
       "      <th>Boston Manor</th>\n",
       "      <td>0.0050</td>\n",
       "      <td>0.061265</td>\n",
       "      <td>0.039298</td>\n",
       "    </tr>\n",
       "    <tr>\n",
       "      <th>Northfields</th>\n",
       "      <td>0.0050</td>\n",
       "      <td>0.065083</td>\n",
       "      <td>0.044098</td>\n",
       "    </tr>\n",
       "    <tr>\n",
       "      <th>Heathrow Terminal 5</th>\n",
       "      <td>0.0025</td>\n",
       "      <td>0.043155</td>\n",
       "      <td>0.000000</td>\n",
       "    </tr>\n",
       "  </tbody>\n",
       "</table>\n",
       "<p>401 rows × 3 columns</p>\n",
       "</div>"
      ],
      "text/plain": [
       "                     degree  closeness  betweenness_t\n",
       "Harrow & Wealdstone  0.0050   0.056625       0.029624\n",
       "Kenton               0.0050   0.059907       0.034474\n",
       "South Kenton         0.0050   0.063573       0.039298\n",
       "North Wembley        0.0050   0.067693       0.044098\n",
       "Wembley Central      0.0050   0.072359       0.048872\n",
       "...                     ...        ...            ...\n",
       "Hounslow East        0.0050   0.054787       0.029624\n",
       "Osterley             0.0050   0.057854       0.034474\n",
       "Boston Manor         0.0050   0.061265       0.039298\n",
       "Northfields          0.0050   0.065083       0.044098\n",
       "Heathrow Terminal 5  0.0025   0.043155       0.000000\n",
       "\n",
       "[401 rows x 3 columns]"
      ]
     },
     "execution_count": 90,
     "metadata": {},
     "output_type": "execute_result"
    }
   ],
   "source": [
    "df"
   ]
  },
  {
   "cell_type": "markdown",
   "id": "e1194ca7-a374-450c-a14d-00cc90fa9598",
   "metadata": {
    "jp-MarkdownHeadingCollapsed": true,
    "tags": []
   },
   "source": [
    "#### 1.2. Impact measures"
   ]
  },
  {
   "cell_type": "markdown",
   "id": "e8af1ee4-b7f1-4973-a23f-1a61694c551c",
   "metadata": {},
   "source": [
    "- Find 2 different measures\n",
    "- Evaluate the impact of the node removal on the network\n",
    "- These need to be global measures referring to the whole network and not to specific nodes or links\n",
    "- Are they just applicable for London Underground or can be applied for other network?\n"
   ]
  },
  {
   "cell_type": "markdown",
   "id": "b7c50077-d529-4d85-aa91-7ee0cc96b093",
   "metadata": {},
   "source": [
    "- Distance and Diameter\n",
    "- \n",
    "\n",
    "Use this references below to explain why I choose this variables and also what is the other applications of this measures in other types of network\n",
    "\n",
    "**Reference**\n",
    "\n",
    "Jamakovic, A. and Uhlig, S., 2008. On the relationships between topological measures in real-world networks. Networks Heterog. Media, 3(2), pp.345-359.\n",
    "\n",
    "Kantarci, B. and Labatut, V., 2013, September. Classification of complex networks based on topological properties. In 2013 international conference on Cloud and Green Computing (pp. 297-304). IEEE.\n",
    "\n",
    "Lin, J. and Ban, Y., 2013. Complex network topology of transportation systems. Transport reviews, 33(6), pp.658-685."
   ]
  },
  {
   "cell_type": "markdown",
   "id": "370b650c-d0f0-4054-89e1-3510b3aa5341",
   "metadata": {
    "tags": []
   },
   "source": [
    "#### 1.3. Node removal: \n",
    "Remove at least 10 nodes\n",
    "\n",
    "\n",
    "\n",
    "- when you reduce the efficient, so as you remove the nodes, the nodes have to reduce the efficient,\n",
    "\n",
    "- after remove 1, after remove the seconde one and so on...............( IN THE WHOLE SYSTEM)\n"
   ]
  },
  {
   "cell_type": "code",
   "execution_count": null,
   "id": "9af8bd76-a283-403e-9662-d33d1fba1789",
   "metadata": {},
   "outputs": [],
   "source": []
  },
  {
   "cell_type": "markdown",
   "id": "6b897d30-3f52-4256-ba22-028d56318d63",
   "metadata": {},
   "source": [
    "###### Non-sequential Removal\n",
    "\n",
    "- Remove 1 node following the rank\n",
    "- Evaluate the impact using the **two measures**\n",
    "\n",
    "Using your table in 1.- remove 1 node at a time following the rank in the table, i.e. from the most important one to the 10th most important one. After each removal, evaluate the impact of the removal using your two measures in 2.-, and proceed until you have removed at least 10 nodes."
   ]
  },
  {
   "cell_type": "markdown",
   "id": "c061f717-ebd4-442e-b7d6-1e0686385b87",
   "metadata": {
    "tags": []
   },
   "source": [
    "###### DEGREE CENTRALITY"
   ]
  },
  {
   "cell_type": "code",
   "execution_count": 60,
   "id": "da84e74a-4f53-409c-9957-b2f5ce6f2875",
   "metadata": {},
   "outputs": [
    {
     "data": {
      "text/html": [
       "<div>\n",
       "<style scoped>\n",
       "    .dataframe tbody tr th:only-of-type {\n",
       "        vertical-align: middle;\n",
       "    }\n",
       "\n",
       "    .dataframe tbody tr th {\n",
       "        vertical-align: top;\n",
       "    }\n",
       "\n",
       "    .dataframe thead th {\n",
       "        text-align: right;\n",
       "    }\n",
       "</style>\n",
       "<table border=\"1\" class=\"dataframe\">\n",
       "  <thead>\n",
       "    <tr style=\"text-align: right;\">\n",
       "      <th></th>\n",
       "      <th>Node removed</th>\n",
       "      <th>Size Largest Component</th>\n",
       "      <th>Diameter Largest Component</th>\n",
       "    </tr>\n",
       "  </thead>\n",
       "  <tbody>\n",
       "    <tr>\n",
       "      <th>0</th>\n",
       "      <td>0</td>\n",
       "      <td>401</td>\n",
       "      <td>36</td>\n",
       "    </tr>\n",
       "    <tr>\n",
       "      <th>1</th>\n",
       "      <td>1</td>\n",
       "      <td>379</td>\n",
       "      <td>49</td>\n",
       "    </tr>\n",
       "    <tr>\n",
       "      <th>2</th>\n",
       "      <td>2</td>\n",
       "      <td>378</td>\n",
       "      <td>49</td>\n",
       "    </tr>\n",
       "    <tr>\n",
       "      <th>3</th>\n",
       "      <td>3</td>\n",
       "      <td>377</td>\n",
       "      <td>49</td>\n",
       "    </tr>\n",
       "    <tr>\n",
       "      <th>4</th>\n",
       "      <td>4</td>\n",
       "      <td>374</td>\n",
       "      <td>49</td>\n",
       "    </tr>\n",
       "    <tr>\n",
       "      <th>5</th>\n",
       "      <td>5</td>\n",
       "      <td>371</td>\n",
       "      <td>53</td>\n",
       "    </tr>\n",
       "    <tr>\n",
       "      <th>6</th>\n",
       "      <td>6</td>\n",
       "      <td>356</td>\n",
       "      <td>53</td>\n",
       "    </tr>\n",
       "    <tr>\n",
       "      <th>7</th>\n",
       "      <td>7</td>\n",
       "      <td>355</td>\n",
       "      <td>53</td>\n",
       "    </tr>\n",
       "    <tr>\n",
       "      <th>8</th>\n",
       "      <td>8</td>\n",
       "      <td>354</td>\n",
       "      <td>53</td>\n",
       "    </tr>\n",
       "    <tr>\n",
       "      <th>9</th>\n",
       "      <td>9</td>\n",
       "      <td>348</td>\n",
       "      <td>53</td>\n",
       "    </tr>\n",
       "    <tr>\n",
       "      <th>10</th>\n",
       "      <td>10</td>\n",
       "      <td>346</td>\n",
       "      <td>53</td>\n",
       "    </tr>\n",
       "    <tr>\n",
       "      <th>11</th>\n",
       "      <td>11</td>\n",
       "      <td>345</td>\n",
       "      <td>53</td>\n",
       "    </tr>\n",
       "    <tr>\n",
       "      <th>12</th>\n",
       "      <td>12</td>\n",
       "      <td>322</td>\n",
       "      <td>53</td>\n",
       "    </tr>\n",
       "    <tr>\n",
       "      <th>13</th>\n",
       "      <td>13</td>\n",
       "      <td>320</td>\n",
       "      <td>58</td>\n",
       "    </tr>\n",
       "    <tr>\n",
       "      <th>14</th>\n",
       "      <td>14</td>\n",
       "      <td>319</td>\n",
       "      <td>58</td>\n",
       "    </tr>\n",
       "    <tr>\n",
       "      <th>15</th>\n",
       "      <td>15</td>\n",
       "      <td>300</td>\n",
       "      <td>73</td>\n",
       "    </tr>\n",
       "    <tr>\n",
       "      <th>16</th>\n",
       "      <td>16</td>\n",
       "      <td>188</td>\n",
       "      <td>46</td>\n",
       "    </tr>\n",
       "    <tr>\n",
       "      <th>17</th>\n",
       "      <td>17</td>\n",
       "      <td>165</td>\n",
       "      <td>43</td>\n",
       "    </tr>\n",
       "    <tr>\n",
       "      <th>18</th>\n",
       "      <td>18</td>\n",
       "      <td>162</td>\n",
       "      <td>43</td>\n",
       "    </tr>\n",
       "    <tr>\n",
       "      <th>19</th>\n",
       "      <td>19</td>\n",
       "      <td>159</td>\n",
       "      <td>43</td>\n",
       "    </tr>\n",
       "    <tr>\n",
       "      <th>20</th>\n",
       "      <td>20</td>\n",
       "      <td>142</td>\n",
       "      <td>43</td>\n",
       "    </tr>\n",
       "  </tbody>\n",
       "</table>\n",
       "</div>"
      ],
      "text/plain": [
       "    Node removed  Size Largest Component  Diameter Largest Component\n",
       "0              0                     401                          36\n",
       "1              1                     379                          49\n",
       "2              2                     378                          49\n",
       "3              3                     377                          49\n",
       "4              4                     374                          49\n",
       "5              5                     371                          53\n",
       "6              6                     356                          53\n",
       "7              7                     355                          53\n",
       "8              8                     354                          53\n",
       "9              9                     348                          53\n",
       "10            10                     346                          53\n",
       "11            11                     345                          53\n",
       "12            12                     322                          53\n",
       "13            13                     320                          58\n",
       "14            14                     319                          58\n",
       "15            15                     300                          73\n",
       "16            16                     188                          46\n",
       "17            17                     165                          43\n",
       "18            18                     162                          43\n",
       "19            19                     159                          43\n",
       "20            20                     142                          43"
      ]
     },
     "execution_count": 60,
     "metadata": {},
     "output_type": "execute_result"
    }
   ],
   "source": [
    "#DEGREE CENTRALITY\n",
    "\n",
    "# create a copy of the graph object\n",
    "G_copy = G.copy()\n",
    "\n",
    "#  We can calculate the degree centrality using networkx function:\n",
    "deg =nx.degree_centrality(G_copy)\n",
    "nx.set_node_attributes(G_copy,dict(deg),'degree')\n",
    "\n",
    "# initialize empty lists to store results\n",
    "num_nodes_removed_list = []\n",
    "size_largestcomponent_list = []\n",
    "diameter_largestcomponent_list = []\n",
    "\n",
    "\n",
    "# loop through values of n from 0 to 10\n",
    "for n in range(0, 21):\n",
    "     \n",
    "    # remove n highest node values\n",
    "    nodes_to_remove = sorted(deg.items(), key=itemgetter(1), reverse=True)\n",
    "    sorted_one=[e for e,v in nodes_to_remove[:n]]\n",
    "    G_copy.remove_nodes_from(sorted_one)\n",
    "\n",
    "    # count the number of nodes removed\n",
    "    num_nodes_removed = n\n",
    "\n",
    "    # To obtain the largest component as a new graph: \n",
    "    # Get the list of components:\n",
    "    components = nx.connected_components(G_copy)\n",
    "    # Use the max() command to find the largest one:\n",
    "    largest_component = max(components, key=len)\n",
    "    # Create a \"subgraph\" of the largest component\n",
    "    Largest_subgraph = G_copy.subgraph(largest_component)\n",
    "    \n",
    "    # To compute the size of the largest component:\n",
    "    size_largestcomponent = Largest_subgraph.number_of_nodes()\n",
    "    \n",
    "    # You can compute the diameter of this new graph \n",
    "    diameter_largestcomponent = nx.diameter(Largest_subgraph)\n",
    "    \n",
    "    # append results to the respective lists\n",
    "    num_nodes_removed_list.append(num_nodes_removed)\n",
    "    size_largestcomponent_list.append(size_largestcomponent)\n",
    "    diameter_largestcomponent_list.append(diameter_largestcomponent)\n",
    "\n",
    "# create a pandas DataFrame and add the information as columns\n",
    "DC_ns = pd.DataFrame()\n",
    "DC_ns['Node removed'] = num_nodes_removed_list\n",
    "DC_ns['Size Largest Component'] = size_largestcomponent_list\n",
    "DC_ns['Diameter Largest Component'] = diameter_largestcomponent_list\n",
    "\n",
    "DC_ns"
   ]
  },
  {
   "cell_type": "markdown",
   "id": "fd9ab94b-313d-41b9-896f-b385fd9c4e41",
   "metadata": {
    "tags": []
   },
   "source": [
    "###### CLOSENESS CENTRALITY"
   ]
  },
  {
   "cell_type": "code",
   "execution_count": 61,
   "id": "1326741b-cef9-4b97-8b51-d9972fc0fe5e",
   "metadata": {},
   "outputs": [
    {
     "data": {
      "text/html": [
       "<div>\n",
       "<style scoped>\n",
       "    .dataframe tbody tr th:only-of-type {\n",
       "        vertical-align: middle;\n",
       "    }\n",
       "\n",
       "    .dataframe tbody tr th {\n",
       "        vertical-align: top;\n",
       "    }\n",
       "\n",
       "    .dataframe thead th {\n",
       "        text-align: right;\n",
       "    }\n",
       "</style>\n",
       "<table border=\"1\" class=\"dataframe\">\n",
       "  <thead>\n",
       "    <tr style=\"text-align: right;\">\n",
       "      <th></th>\n",
       "      <th>Node removed</th>\n",
       "      <th>Size Largest Component</th>\n",
       "      <th>Diameter Largest Component</th>\n",
       "    </tr>\n",
       "  </thead>\n",
       "  <tbody>\n",
       "    <tr>\n",
       "      <th>0</th>\n",
       "      <td>0</td>\n",
       "      <td>401</td>\n",
       "      <td>36</td>\n",
       "    </tr>\n",
       "    <tr>\n",
       "      <th>1</th>\n",
       "      <td>1</td>\n",
       "      <td>400</td>\n",
       "      <td>36</td>\n",
       "    </tr>\n",
       "    <tr>\n",
       "      <th>2</th>\n",
       "      <td>2</td>\n",
       "      <td>399</td>\n",
       "      <td>38</td>\n",
       "    </tr>\n",
       "    <tr>\n",
       "      <th>3</th>\n",
       "      <td>3</td>\n",
       "      <td>398</td>\n",
       "      <td>42</td>\n",
       "    </tr>\n",
       "    <tr>\n",
       "      <th>4</th>\n",
       "      <td>4</td>\n",
       "      <td>397</td>\n",
       "      <td>42</td>\n",
       "    </tr>\n",
       "    <tr>\n",
       "      <th>5</th>\n",
       "      <td>5</td>\n",
       "      <td>396</td>\n",
       "      <td>42</td>\n",
       "    </tr>\n",
       "    <tr>\n",
       "      <th>6</th>\n",
       "      <td>6</td>\n",
       "      <td>395</td>\n",
       "      <td>45</td>\n",
       "    </tr>\n",
       "    <tr>\n",
       "      <th>7</th>\n",
       "      <td>7</td>\n",
       "      <td>394</td>\n",
       "      <td>45</td>\n",
       "    </tr>\n",
       "    <tr>\n",
       "      <th>8</th>\n",
       "      <td>8</td>\n",
       "      <td>393</td>\n",
       "      <td>45</td>\n",
       "    </tr>\n",
       "    <tr>\n",
       "      <th>9</th>\n",
       "      <td>9</td>\n",
       "      <td>392</td>\n",
       "      <td>45</td>\n",
       "    </tr>\n",
       "    <tr>\n",
       "      <th>10</th>\n",
       "      <td>10</td>\n",
       "      <td>389</td>\n",
       "      <td>45</td>\n",
       "    </tr>\n",
       "    <tr>\n",
       "      <th>11</th>\n",
       "      <td>11</td>\n",
       "      <td>388</td>\n",
       "      <td>45</td>\n",
       "    </tr>\n",
       "    <tr>\n",
       "      <th>12</th>\n",
       "      <td>12</td>\n",
       "      <td>349</td>\n",
       "      <td>42</td>\n",
       "    </tr>\n",
       "    <tr>\n",
       "      <th>13</th>\n",
       "      <td>13</td>\n",
       "      <td>349</td>\n",
       "      <td>42</td>\n",
       "    </tr>\n",
       "    <tr>\n",
       "      <th>14</th>\n",
       "      <td>14</td>\n",
       "      <td>349</td>\n",
       "      <td>42</td>\n",
       "    </tr>\n",
       "    <tr>\n",
       "      <th>15</th>\n",
       "      <td>15</td>\n",
       "      <td>345</td>\n",
       "      <td>42</td>\n",
       "    </tr>\n",
       "    <tr>\n",
       "      <th>16</th>\n",
       "      <td>16</td>\n",
       "      <td>343</td>\n",
       "      <td>46</td>\n",
       "    </tr>\n",
       "    <tr>\n",
       "      <th>17</th>\n",
       "      <td>17</td>\n",
       "      <td>342</td>\n",
       "      <td>46</td>\n",
       "    </tr>\n",
       "    <tr>\n",
       "      <th>18</th>\n",
       "      <td>18</td>\n",
       "      <td>342</td>\n",
       "      <td>46</td>\n",
       "    </tr>\n",
       "    <tr>\n",
       "      <th>19</th>\n",
       "      <td>19</td>\n",
       "      <td>342</td>\n",
       "      <td>46</td>\n",
       "    </tr>\n",
       "    <tr>\n",
       "      <th>20</th>\n",
       "      <td>20</td>\n",
       "      <td>342</td>\n",
       "      <td>46</td>\n",
       "    </tr>\n",
       "  </tbody>\n",
       "</table>\n",
       "</div>"
      ],
      "text/plain": [
       "    Node removed  Size Largest Component  Diameter Largest Component\n",
       "0              0                     401                          36\n",
       "1              1                     400                          36\n",
       "2              2                     399                          38\n",
       "3              3                     398                          42\n",
       "4              4                     397                          42\n",
       "5              5                     396                          42\n",
       "6              6                     395                          45\n",
       "7              7                     394                          45\n",
       "8              8                     393                          45\n",
       "9              9                     392                          45\n",
       "10            10                     389                          45\n",
       "11            11                     388                          45\n",
       "12            12                     349                          42\n",
       "13            13                     349                          42\n",
       "14            14                     349                          42\n",
       "15            15                     345                          42\n",
       "16            16                     343                          46\n",
       "17            17                     342                          46\n",
       "18            18                     342                          46\n",
       "19            19                     342                          46\n",
       "20            20                     342                          46"
      ]
     },
     "execution_count": 61,
     "metadata": {},
     "output_type": "execute_result"
    }
   ],
   "source": [
    "#CLOSENESS CENTRALITY\n",
    "\n",
    "# create a copy of the graph object\n",
    "G_copy = G.copy()\n",
    "\n",
    "#  Calculating closenessd centrality using networkx function:\n",
    "clos = nx.closeness_centrality(G_copy)\n",
    "nx.set_node_attributes(G_copy,dict(clos),'closeness')\n",
    "\n",
    "# initialize empty lists to store results\n",
    "num_nodes_removed_list = []\n",
    "size_largestcomponent_list = []\n",
    "diameter_largestcomponent_list = []\n",
    "\n",
    "\n",
    "# loop through values of n from 1 to 10\n",
    "for n in range(0, 21):\n",
    "     \n",
    "    # remove n highest node values\n",
    "    nodes_to_remove = sorted(clos.items(), key=itemgetter(1), reverse=True)\n",
    "    sorted_one=[e for e,v in nodes_to_remove[:n]]\n",
    "    G_copy.remove_nodes_from(sorted_one)\n",
    "\n",
    "    # count the number of nodes removed\n",
    "    num_nodes_removed = n\n",
    "\n",
    "    # To obtain the largest component as a new graph: \n",
    "    # Get the list of components:\n",
    "    components = nx.connected_components(G_copy)\n",
    "    # Use the max() command to find the largest one:\n",
    "    largest_component = max(components, key=len)\n",
    "    # Create a \"subgraph\" of the largest component\n",
    "    Largest_subgraph = G_copy.subgraph(largest_component)\n",
    "    \n",
    "    # To compute the size of the largest component:\n",
    "    size_largestcomponent = Largest_subgraph.number_of_nodes()\n",
    "    \n",
    "    # You can compute the diameter of this new graph \n",
    "    diameter_largestcomponent = nx.diameter(Largest_subgraph)\n",
    "    \n",
    "    # append results to the respective lists\n",
    "    num_nodes_removed_list.append(num_nodes_removed)\n",
    "    size_largestcomponent_list.append(size_largestcomponent)\n",
    "    diameter_largestcomponent_list.append(diameter_largestcomponent)\n",
    "\n",
    "# create a pandas DataFrame and add the information as columns\n",
    "CC_ns = pd.DataFrame()\n",
    "CC_ns['Node removed'] = num_nodes_removed_list\n",
    "CC_ns['Size Largest Component'] = size_largestcomponent_list\n",
    "CC_ns['Diameter Largest Component'] = diameter_largestcomponent_list\n",
    "\n",
    "CC_ns"
   ]
  },
  {
   "cell_type": "markdown",
   "id": "f8088ea7-52e5-427b-aa0d-4d8af7da3da0",
   "metadata": {
    "tags": []
   },
   "source": [
    "###### BETWENESS CENTRALITY"
   ]
  },
  {
   "cell_type": "code",
   "execution_count": 62,
   "id": "74e2ccb5-bf85-4dcf-8727-b89b98de77d9",
   "metadata": {},
   "outputs": [
    {
     "data": {
      "text/html": [
       "<div>\n",
       "<style scoped>\n",
       "    .dataframe tbody tr th:only-of-type {\n",
       "        vertical-align: middle;\n",
       "    }\n",
       "\n",
       "    .dataframe tbody tr th {\n",
       "        vertical-align: top;\n",
       "    }\n",
       "\n",
       "    .dataframe thead th {\n",
       "        text-align: right;\n",
       "    }\n",
       "</style>\n",
       "<table border=\"1\" class=\"dataframe\">\n",
       "  <thead>\n",
       "    <tr style=\"text-align: right;\">\n",
       "      <th></th>\n",
       "      <th>Node removed</th>\n",
       "      <th>Size Largest Component</th>\n",
       "      <th>Diameter Largest Component</th>\n",
       "    </tr>\n",
       "  </thead>\n",
       "  <tbody>\n",
       "    <tr>\n",
       "      <th>0</th>\n",
       "      <td>0</td>\n",
       "      <td>401</td>\n",
       "      <td>36</td>\n",
       "    </tr>\n",
       "    <tr>\n",
       "      <th>1</th>\n",
       "      <td>1</td>\n",
       "      <td>379</td>\n",
       "      <td>49</td>\n",
       "    </tr>\n",
       "    <tr>\n",
       "      <th>2</th>\n",
       "      <td>2</td>\n",
       "      <td>378</td>\n",
       "      <td>49</td>\n",
       "    </tr>\n",
       "    <tr>\n",
       "      <th>3</th>\n",
       "      <td>3</td>\n",
       "      <td>377</td>\n",
       "      <td>49</td>\n",
       "    </tr>\n",
       "    <tr>\n",
       "      <th>4</th>\n",
       "      <td>4</td>\n",
       "      <td>371</td>\n",
       "      <td>49</td>\n",
       "    </tr>\n",
       "    <tr>\n",
       "      <th>5</th>\n",
       "      <td>5</td>\n",
       "      <td>370</td>\n",
       "      <td>49</td>\n",
       "    </tr>\n",
       "    <tr>\n",
       "      <th>6</th>\n",
       "      <td>6</td>\n",
       "      <td>369</td>\n",
       "      <td>49</td>\n",
       "    </tr>\n",
       "    <tr>\n",
       "      <th>7</th>\n",
       "      <td>7</td>\n",
       "      <td>346</td>\n",
       "      <td>49</td>\n",
       "    </tr>\n",
       "    <tr>\n",
       "      <th>8</th>\n",
       "      <td>8</td>\n",
       "      <td>345</td>\n",
       "      <td>49</td>\n",
       "    </tr>\n",
       "    <tr>\n",
       "      <th>9</th>\n",
       "      <td>9</td>\n",
       "      <td>342</td>\n",
       "      <td>49</td>\n",
       "    </tr>\n",
       "    <tr>\n",
       "      <th>10</th>\n",
       "      <td>10</td>\n",
       "      <td>339</td>\n",
       "      <td>49</td>\n",
       "    </tr>\n",
       "    <tr>\n",
       "      <th>11</th>\n",
       "      <td>11</td>\n",
       "      <td>338</td>\n",
       "      <td>49</td>\n",
       "    </tr>\n",
       "    <tr>\n",
       "      <th>12</th>\n",
       "      <td>12</td>\n",
       "      <td>324</td>\n",
       "      <td>49</td>\n",
       "    </tr>\n",
       "    <tr>\n",
       "      <th>13</th>\n",
       "      <td>13</td>\n",
       "      <td>305</td>\n",
       "      <td>49</td>\n",
       "    </tr>\n",
       "    <tr>\n",
       "      <th>14</th>\n",
       "      <td>14</td>\n",
       "      <td>302</td>\n",
       "      <td>59</td>\n",
       "    </tr>\n",
       "    <tr>\n",
       "      <th>15</th>\n",
       "      <td>15</td>\n",
       "      <td>297</td>\n",
       "      <td>70</td>\n",
       "    </tr>\n",
       "    <tr>\n",
       "      <th>16</th>\n",
       "      <td>16</td>\n",
       "      <td>285</td>\n",
       "      <td>70</td>\n",
       "    </tr>\n",
       "    <tr>\n",
       "      <th>17</th>\n",
       "      <td>17</td>\n",
       "      <td>285</td>\n",
       "      <td>70</td>\n",
       "    </tr>\n",
       "    <tr>\n",
       "      <th>18</th>\n",
       "      <td>18</td>\n",
       "      <td>284</td>\n",
       "      <td>72</td>\n",
       "    </tr>\n",
       "    <tr>\n",
       "      <th>19</th>\n",
       "      <td>19</td>\n",
       "      <td>283</td>\n",
       "      <td>72</td>\n",
       "    </tr>\n",
       "    <tr>\n",
       "      <th>20</th>\n",
       "      <td>20</td>\n",
       "      <td>149</td>\n",
       "      <td>43</td>\n",
       "    </tr>\n",
       "  </tbody>\n",
       "</table>\n",
       "</div>"
      ],
      "text/plain": [
       "    Node removed  Size Largest Component  Diameter Largest Component\n",
       "0              0                     401                          36\n",
       "1              1                     379                          49\n",
       "2              2                     378                          49\n",
       "3              3                     377                          49\n",
       "4              4                     371                          49\n",
       "5              5                     370                          49\n",
       "6              6                     369                          49\n",
       "7              7                     346                          49\n",
       "8              8                     345                          49\n",
       "9              9                     342                          49\n",
       "10            10                     339                          49\n",
       "11            11                     338                          49\n",
       "12            12                     324                          49\n",
       "13            13                     305                          49\n",
       "14            14                     302                          59\n",
       "15            15                     297                          70\n",
       "16            16                     285                          70\n",
       "17            17                     285                          70\n",
       "18            18                     284                          72\n",
       "19            19                     283                          72\n",
       "20            20                     149                          43"
      ]
     },
     "execution_count": 62,
     "metadata": {},
     "output_type": "execute_result"
    }
   ],
   "source": [
    "#BETWENESS CENTRALITY\n",
    "\n",
    "# create a copy of the graph object\n",
    "G_copy = G.copy()\n",
    "\n",
    "#Let us compute the betweenness centrality for the network, without using weights:\n",
    "bet=nx.betweenness_centrality(G_copy)\n",
    "nx.set_node_attributes(G_copy,dict(bet),'betweenness')\n",
    "\n",
    "# initialize empty lists to store results\n",
    "num_nodes_removed_list = []\n",
    "size_largestcomponent_list = []\n",
    "diameter_largestcomponent_list = []\n",
    "\n",
    "\n",
    "# loop through values of n from 0 to 10\n",
    "for n in range(0, 21):\n",
    "     \n",
    "    # remove n highest node values\n",
    "    nodes_to_remove = sorted(bet.items(), key=itemgetter(1), reverse=True)\n",
    "    sorted_one=[e for e,v in nodes_to_remove[:n]]\n",
    "    G_copy.remove_nodes_from(sorted_one)\n",
    "\n",
    "    # count the number of nodes removed\n",
    "    num_nodes_removed = n\n",
    "\n",
    "    # To obtain the largest component as a new graph: \n",
    "    # Get the list of components:\n",
    "    components = nx.connected_components(G_copy)\n",
    "    # Use the max() command to find the largest one:\n",
    "    largest_component = max(components, key=len)\n",
    "    # Create a \"subgraph\" of the largest component\n",
    "    Largest_subgraph = G_copy.subgraph(largest_component)\n",
    "    \n",
    "    # To compute the size of the largest component:\n",
    "    size_largestcomponent = Largest_subgraph.number_of_nodes()\n",
    "    \n",
    "    # You can compute the diameter of this new graph \n",
    "    diameter_largestcomponent = nx.diameter(Largest_subgraph)\n",
    "    \n",
    "    # append results to the respective lists\n",
    "    num_nodes_removed_list.append(num_nodes_removed)\n",
    "    size_largestcomponent_list.append(size_largestcomponent)\n",
    "    diameter_largestcomponent_list.append(diameter_largestcomponent)\n",
    "\n",
    "# create a pandas DataFrame and add the information as columns\n",
    "BC_ns = pd.DataFrame()\n",
    "BC_ns['Node removed'] = num_nodes_removed_list\n",
    "BC_ns['Size Largest Component'] = size_largestcomponent_list\n",
    "BC_ns['Diameter Largest Component'] = diameter_largestcomponent_list\n",
    "\n",
    "BC_ns\n"
   ]
  },
  {
   "cell_type": "code",
   "execution_count": null,
   "id": "dfe4a0a3-0d57-4296-9775-770a4dd9333f",
   "metadata": {},
   "outputs": [],
   "source": []
  },
  {
   "cell_type": "markdown",
   "id": "d53eb51e-5251-44d2-93b0-f4211e2a8864",
   "metadata": {
    "tags": []
   },
   "source": [
    "###### SUMMARY"
   ]
  },
  {
   "cell_type": "code",
   "execution_count": 63,
   "id": "0e475cb5-3993-47a8-9c37-86a859600036",
   "metadata": {},
   "outputs": [],
   "source": [
    "DC_ns = DC_ns.assign(Centrality=pd.Series(['degree']*len(DC_ns)).values)\n",
    "CC_ns = CC_ns.assign(Centrality=pd.Series(['closeness']*len(CC_ns)).values)\n",
    "BC_ns = BC_ns.assign(Centrality=pd.Series(['betweeness']*len(BC_ns)).values)"
   ]
  },
  {
   "cell_type": "code",
   "execution_count": 64,
   "id": "7bcb89ff-c628-472d-a66f-512b7d8d09d5",
   "metadata": {},
   "outputs": [
    {
     "data": {
      "text/html": [
       "<div>\n",
       "<style scoped>\n",
       "    .dataframe tbody tr th:only-of-type {\n",
       "        vertical-align: middle;\n",
       "    }\n",
       "\n",
       "    .dataframe tbody tr th {\n",
       "        vertical-align: top;\n",
       "    }\n",
       "\n",
       "    .dataframe thead th {\n",
       "        text-align: right;\n",
       "    }\n",
       "</style>\n",
       "<table border=\"1\" class=\"dataframe\">\n",
       "  <thead>\n",
       "    <tr style=\"text-align: right;\">\n",
       "      <th></th>\n",
       "      <th>Node removed</th>\n",
       "      <th>Size Largest Component</th>\n",
       "      <th>Diameter Largest Component</th>\n",
       "      <th>Centrality</th>\n",
       "    </tr>\n",
       "  </thead>\n",
       "  <tbody>\n",
       "    <tr>\n",
       "      <th>0</th>\n",
       "      <td>0</td>\n",
       "      <td>401</td>\n",
       "      <td>36</td>\n",
       "      <td>degree</td>\n",
       "    </tr>\n",
       "    <tr>\n",
       "      <th>1</th>\n",
       "      <td>1</td>\n",
       "      <td>379</td>\n",
       "      <td>49</td>\n",
       "      <td>degree</td>\n",
       "    </tr>\n",
       "    <tr>\n",
       "      <th>2</th>\n",
       "      <td>2</td>\n",
       "      <td>378</td>\n",
       "      <td>49</td>\n",
       "      <td>degree</td>\n",
       "    </tr>\n",
       "    <tr>\n",
       "      <th>3</th>\n",
       "      <td>3</td>\n",
       "      <td>377</td>\n",
       "      <td>49</td>\n",
       "      <td>degree</td>\n",
       "    </tr>\n",
       "    <tr>\n",
       "      <th>4</th>\n",
       "      <td>4</td>\n",
       "      <td>374</td>\n",
       "      <td>49</td>\n",
       "      <td>degree</td>\n",
       "    </tr>\n",
       "    <tr>\n",
       "      <th>...</th>\n",
       "      <td>...</td>\n",
       "      <td>...</td>\n",
       "      <td>...</td>\n",
       "      <td>...</td>\n",
       "    </tr>\n",
       "    <tr>\n",
       "      <th>58</th>\n",
       "      <td>16</td>\n",
       "      <td>285</td>\n",
       "      <td>70</td>\n",
       "      <td>betweeness</td>\n",
       "    </tr>\n",
       "    <tr>\n",
       "      <th>59</th>\n",
       "      <td>17</td>\n",
       "      <td>285</td>\n",
       "      <td>70</td>\n",
       "      <td>betweeness</td>\n",
       "    </tr>\n",
       "    <tr>\n",
       "      <th>60</th>\n",
       "      <td>18</td>\n",
       "      <td>284</td>\n",
       "      <td>72</td>\n",
       "      <td>betweeness</td>\n",
       "    </tr>\n",
       "    <tr>\n",
       "      <th>61</th>\n",
       "      <td>19</td>\n",
       "      <td>283</td>\n",
       "      <td>72</td>\n",
       "      <td>betweeness</td>\n",
       "    </tr>\n",
       "    <tr>\n",
       "      <th>62</th>\n",
       "      <td>20</td>\n",
       "      <td>149</td>\n",
       "      <td>43</td>\n",
       "      <td>betweeness</td>\n",
       "    </tr>\n",
       "  </tbody>\n",
       "</table>\n",
       "<p>63 rows × 4 columns</p>\n",
       "</div>"
      ],
      "text/plain": [
       "    Node removed  Size Largest Component  Diameter Largest Component  \\\n",
       "0              0                     401                          36   \n",
       "1              1                     379                          49   \n",
       "2              2                     378                          49   \n",
       "3              3                     377                          49   \n",
       "4              4                     374                          49   \n",
       "..           ...                     ...                         ...   \n",
       "58            16                     285                          70   \n",
       "59            17                     285                          70   \n",
       "60            18                     284                          72   \n",
       "61            19                     283                          72   \n",
       "62            20                     149                          43   \n",
       "\n",
       "    Centrality  \n",
       "0       degree  \n",
       "1       degree  \n",
       "2       degree  \n",
       "3       degree  \n",
       "4       degree  \n",
       "..         ...  \n",
       "58  betweeness  \n",
       "59  betweeness  \n",
       "60  betweeness  \n",
       "61  betweeness  \n",
       "62  betweeness  \n",
       "\n",
       "[63 rows x 4 columns]"
      ]
     },
     "execution_count": 64,
     "metadata": {},
     "output_type": "execute_result"
    }
   ],
   "source": [
    "merged_df = pd.concat([DC_ns, CC_ns, BC_ns], ignore_index=True)\n",
    "merged_df"
   ]
  },
  {
   "cell_type": "code",
   "execution_count": 65,
   "id": "6d447d2f-6e59-4325-8021-e9c83f3f9709",
   "metadata": {},
   "outputs": [
    {
     "name": "stdout",
     "output_type": "stream",
     "text": [
      "<class 'pandas.core.frame.DataFrame'>\n",
      "RangeIndex: 63 entries, 0 to 62\n",
      "Data columns (total 4 columns):\n",
      " #   Column                      Non-Null Count  Dtype \n",
      "---  ------                      --------------  ----- \n",
      " 0   Node removed                63 non-null     int64 \n",
      " 1   Size Largest Component      63 non-null     int64 \n",
      " 2   Diameter Largest Component  63 non-null     int64 \n",
      " 3   Centrality                  63 non-null     object\n",
      "dtypes: int64(3), object(1)\n",
      "memory usage: 2.1+ KB\n"
     ]
    }
   ],
   "source": [
    "merged_df.info()"
   ]
  },
  {
   "cell_type": "code",
   "execution_count": 66,
   "id": "e9519f5c-4012-48fe-ae37-504eace2ca59",
   "metadata": {},
   "outputs": [
    {
     "data": {
      "text/plain": [
       "<AxesSubplot:xlabel='Node removed', ylabel='Size Largest Component'>"
      ]
     },
     "execution_count": 66,
     "metadata": {},
     "output_type": "execute_result"
    },
    {
     "data": {
      "image/png": "[encoded data removed]",
      "text/plain": [
       "<Figure size 432x288 with 1 Axes>"
      ]
     },
     "metadata": {},
     "output_type": "display_data"
    }
   ],
   "source": [
    "import seaborn as sns\n",
    "sns.set_theme(style=\"darkgrid\")\n",
    "\n",
    "sns.lineplot(data=merged_df, x=\"Node removed\", y=\"Size Largest Component\", hue=\"Centrality\")"
   ]
  },
  {
   "cell_type": "markdown",
   "id": "348e034b-dde1-44c6-b100-901233572ab8",
   "metadata": {},
   "source": [
    "the closeness is not reflecting the impact of node removal"
   ]
  },
  {
   "cell_type": "code",
   "execution_count": 68,
   "id": "f23ffdd3-c15e-4c4e-abfc-fb6cf462293b",
   "metadata": {},
   "outputs": [
    {
     "data": {
      "text/plain": [
       "<AxesSubplot:xlabel='Node removed', ylabel='Diameter Largest Component'>"
      ]
     },
     "execution_count": 68,
     "metadata": {},
     "output_type": "execute_result"
    },
    {
     "data": {
      "image/png": "[encoded data removed]",
      "text/plain": [
       "<Figure size 432x288 with 1 Axes>"
      ]
     },
     "metadata": {},
     "output_type": "display_data"
    }
   ],
   "source": [
    "sns.lineplot(data=merged_df, x=\"Node removed\", y=\"Diameter Largest Component\", hue=\"Centrality\")"
   ]
  },
  {
   "cell_type": "markdown",
   "id": "3daca271-7fd7-4a8c-8739-5704ee277053",
   "metadata": {},
   "source": [
    "###### Sequential Removal\n",
    "\n",
    "Remove the highest ranked node and evaluate the impact using the 2 measures. After removal, re-compute the centrality measure. Remove the highest ranked node in the new network and evaluate the impact. Continue until removing at least 10 nodes. Report the results of the 2 strategies in one plot, and critically discuss the following: which centrality measure reflects better the importance of a station for the functioning of the underground, which strategy is more effective at studying resilience, and which impact measure is better at assessing the damage after node removal."
   ]
  },
  {
   "cell_type": "code",
   "execution_count": null,
   "id": "c92f8c7a-8cef-4739-bbd0-d7eae62ea9de",
   "metadata": {},
   "outputs": [],
   "source": [
    "#DEGREE CENTRALITY\n",
    "\n",
    "# create a copy of the graph object\n",
    "G_copy = G.copy()\n",
    "\n",
    "# initialize empty lists to store results\n",
    "num_nodes_removed_list = []\n",
    "size_largestcomponent_list = []\n",
    "diameter_largestcomponent_list = []\n",
    "\n",
    "# loop through values of n from 0 to 10\n",
    "for n in range(0, 21):\n",
    "    \n",
    "    #  We can calculate the degree centrality using networkx function:\n",
    "    deg =nx.degree_centrality(G_copy)\n",
    "    nx.set_node_attributes(G_copy,dict(deg),'degree')\n",
    "     \n",
    "    # remove n highest node values\n",
    "    nodes_to_remove = sorted(deg.items(), key=itemgetter(1), reverse=True)\n",
    "    sorted_one=[e for e,v in nodes_to_remove[:n]]\n",
    "    G_copy.remove_nodes_from(sorted_one)\n",
    "\n",
    "    # count the number of nodes removed\n",
    "    num_nodes_removed = n\n",
    "\n",
    "    # To obtain the largest component as a new graph: \n",
    "    # Get the list of components:\n",
    "    components = nx.connected_components(G_copy)\n",
    "    # Use the max() command to find the largest one:\n",
    "    largest_component = max(components, key=len)\n",
    "    # Create a \"subgraph\" of the largest component\n",
    "    Largest_subgraph = G_copy.subgraph(largest_component)\n",
    "    \n",
    "    # To compute the size of the largest component:\n",
    "    size_largestcomponent = Largest_subgraph.number_of_nodes()\n",
    "    \n",
    "    # You can compute the diameter of this new graph \n",
    "    diameter_largestcomponent = nx.diameter(Largest_subgraph)\n",
    "    \n",
    "    # append results to the respective lists\n",
    "    num_nodes_removed_list.append(num_nodes_removed)\n",
    "    size_largestcomponent_list.append(size_largestcomponent)\n",
    "    diameter_largestcomponent_list.append(diameter_largestcomponent)\n",
    "\n",
    "# create a pandas DataFrame and add the information as columns\n",
    "DC_ns = pd.DataFrame()\n",
    "DC_ns['Node removed'] = num_nodes_removed_list\n",
    "DC_ns['Size Largest Component'] = size_largestcomponent_list\n",
    "DC_ns['Diameter Largest Component'] = diameter_largestcomponent_list\n",
    "\n",
    "DC_ns\n",
    "\n",
    "# create a pandas DataFrame to add the centrality measure in a dataframe\n",
    "BC_ns = pd.DataFrame()\n",
    "BC_ns['Node removed'] = num_nodes_removed_list\n",
    "BC_ns['Size Largest Component'] = size_largestcomponent_list\n",
    "BC_ns['Diameter Largest Component'] = diameter_largestcomponent_list\n",
    "\n",
    "# To dataframe using the nodes as the index\n",
    "df_dg = pd.DataFrame(index=G.nodes())\n",
    "df_dg['degree'] = pd.Series(nx.get_node_attributes(G, 'degree'))\n",
    "\n",
    "df_dg = df_dg.sort_values([\"degree\"], ascending=False)\n",
    "df_dg[0:10]"
   ]
  },
  {
   "cell_type": "markdown",
   "id": "f49f1a9d-f560-4685-b1e9-cd0441644f79",
   "metadata": {
    "tags": []
   },
   "source": [
    "### 2.Flows: weighted network\n",
    "\n",
    "- flows of people"
   ]
  },
  {
   "cell_type": "markdown",
   "id": "9d219bee-ddf1-4bdd-854c-d1a2489a7b43",
   "metadata": {},
   "source": [
    "#### 2.1 Centrality measure"
   ]
  },
  {
   "cell_type": "markdown",
   "id": "efed742f-85bc-4db3-b38d-820bda325839",
   "metadata": {},
   "source": [
    "#### 2.2 Impact Measures"
   ]
  },
  {
   "cell_type": "markdown",
   "id": "4f607d0d-069f-4d23-88ed-bce5367272d3",
   "metadata": {},
   "source": [
    "#### 2.3 Node Removal:"
   ]
  },
  {
   "cell_type": "markdown",
   "id": "a0387e38-2a35-4a5c-b8ce-11a5e9704139",
   "metadata": {
    "tags": []
   },
   "source": [
    "## Part 2: Spatial Interaction models"
   ]
  },
  {
   "cell_type": "markdown",
   "id": "f1235205-765d-40cb-a897-91af13cd9d3b",
   "metadata": {
    "tags": []
   },
   "source": [
    "### 3. Models and calibration"
   ]
  },
  {
   "cell_type": "markdown",
   "id": "ab039556-a018-4570-b6c3-eba1d967bc92",
   "metadata": {
    "tags": []
   },
   "source": [
    "#### 3.1 Introduction (Done*)\n",
    "\n",
    "III.1. Briefly introduce the spatial interaction models covered in the lectures using equations and\n",
    "defining the terms, taking particular care in explaining the role of the parameters."
   ]
  },
  {
   "cell_type": "markdown",
   "id": "47fc5d60-ee34-4dac-9370-3b6e2c6e0ee2",
   "metadata": {
    "tags": []
   },
   "source": [
    "##### Gravity Model(unsconstrained model)"
   ]
  },
  {
   "cell_type": "code",
   "execution_count": null,
   "id": "2f09558b-7a32-4644-9091-ff6fb600886b",
   "metadata": {},
   "outputs": [],
   "source": []
  },
  {
   "cell_type": "markdown",
   "id": "5e23f290-0d5d-4113-996e-934142a7faa6",
   "metadata": {},
   "source": [
    "\\begin{equation} \\tag{2}\n",
    "T_{ij} = k O_i^\\alpha  D_j^\\gamma  d_{ij}^{-\\beta}\n",
    "\\end{equation}\n",
    "\n",
    "This model just says that the flows between an origin and destination are proportional to the product of the mass of the origin and destination and inversley proportional to the distance between them.\n",
    "\n",
    "As origin and destination masses increase, flows increase, but as distance increases, flows decrease, and vice versa.</b>\n",
    "\n",
    "- Where $T_{ij}$ is the transition or flow, $T$, between origin $i$ (always the rows in a matrix) and destination $j$ (always the columns in a matrix). If you are not overly familiar with matrix notation, the i and j are just generic indexes to allow us to refer to any cell in the matrix more generally.\n",
    "- $O$ is a vector (a 1 dimensional matrix - or, if you like, a single line of numbers) of origin attributes which relate to the emissiveness of all origins in the dataset, $i$ - in our sample dataset, we have a vector of origin populations (which I have called Oi1_origpop) and a vector of origin average salaries (which I have called Oi2_origsal) in 2001\n",
    "- $D$ is a vector of desination of attributes relating to the attractivenss of all destinations in the dataset, $j$ - in our sample dataset, we have a vector of destination populations (which I have called Dj1_destpop) and a vector of destination average salaries (which I have called Dj2_destsal) in 2001\n",
    "- $d$ is a matrix of costs relating to the flows between $i$ and $j$ - in our case the cost is the distance and it is called ‘dist’ in our dataset"
   ]
  },
  {
   "cell_type": "markdown",
   "id": "35b4a043-2dc2-4b0e-8414-05cba455971f",
   "metadata": {},
   "source": [
    "##### The Poisson Regression Spatial Interaction Model (unsconstrained model) - calibration"
   ]
  },
  {
   "cell_type": "markdown",
   "id": "1daab891-0fb4-465b-b17f-13d6fca39ae7",
   "metadata": {},
   "source": [
    "\\begin{equation} \\tag{6}\n",
    "\\lambda_{ij} = \\exp (K + \\alpha \\ln O_i + \\gamma \\ln D_j - \\beta \\ln d_{ij})\n",
    "\\end{equation}\n",
    "\n",
    "What this model says is that $\\lambda_{ij}$ (our independent variable - the estimate of $T_{ij}$) is <i>logarithmically linked </i> to (or modelled by) a linear combination of the logged independent variables in the model. \n",
    "\n",
    "Now we have Equation 6 at our disposal, we can use a Poisson regression model to produce estimated of $k$, $\\alpha$, $\\gamma$ and $\\beta$ - or put another way, we can use the rgeression model to calibrate our parameters.\n"
   ]
  },
  {
   "cell_type": "markdown",
   "id": "c2b24cab-63ca-497c-91bc-7fbc2fa0f387",
   "metadata": {},
   "source": [
    "##### Production-constrained Model (Constrained Models)"
   ]
  },
  {
   "cell_type": "markdown",
   "id": "a9af8654-2567-4b82-b64d-783d8b0db38e",
   "metadata": {},
   "source": [
    "\n",
    "\n",
    "\\begin{equation} \\label{eq:1} \\tag{1}\n",
    "T_{ij} = A_i O_i D_j^\\gamma d_{ij}^{-\\beta}\n",
    "\\end{equation}\n",
    "\n",
    "In the production-constrained model, $O_i$ does not have a parameter as it is a known constraint. $A_i$ is known as a <i>balancing factor</i> and is a vector of values which relate to each origin, $i$, which do the equivalent job to $k$ in the unconstrained/total constrained model but ensure that flow estimates from each origin sum to the known totals, $O_i$ rather than just the overall total.\n",
    "\n",
    "Now at this point, we could calculate all of the $O_i$s and $A_i$s by hand for our sample system and then set about guessing/estimating the parameter values for the rest of the model, but as you might have already suspected from last time, we can use Python and `glm` to make it really easy and do all of that for us -woo hoo!\n",
    "\n"
   ]
  },
  {
   "cell_type": "markdown",
   "id": "2fc8feb6-7842-45eb-b0e6-a9e51ffc6f09",
   "metadata": {},
   "source": [
    "##### Attraction-Constrained Model (Constrained Models)"
   ]
  },
  {
   "cell_type": "markdown",
   "id": "b388e78d-6bc7-4f74-88b5-efe10763e048",
   "metadata": {},
   "source": [
    "- For this model, there is not much information in the practical notebook, do I need to explain it?"
   ]
  },
  {
   "cell_type": "markdown",
   "id": "2bdd9ba9-8749-4534-9740-30a04e12220e",
   "metadata": {},
   "source": [
    "\\begin{equation} \\label{eq:5} \\tag{5}\n",
    "T_ij = D_j B_j O_i^\\alpha d_{ij}^{-\\beta}\n",
    "\\end{equation}"
   ]
  },
  {
   "cell_type": "markdown",
   "id": "8105d483-39a1-48b1-823f-f89f04826dc8",
   "metadata": {},
   "source": [
    "##### Doubly Constrained Model (Constrained Models)"
   ]
  },
  {
   "cell_type": "markdown",
   "id": "b646cc82-bf91-4a54-b033-f5ede7350e9d",
   "metadata": {},
   "source": [
    "\\begin{equation} \\tag{9}\n",
    "T_{ij} = A_i B_j O_i D_j d_{ij}^{-\\beta}\n",
    "\\end{equation}\n",
    "\n",
    "- We might be interested in understanding the changing patterns of commuting or migration over time. Data from the Census allows us to know an accurate snap-shot of migrating and commuting patterns every 10 years. In these full data matrices, we know both the numbers of commuters/migrants leaving origins and arriving at destinations as well as the interactions between them. If we constrain our model estimates to this known information at origin and destination, we can examine various things, including:\n",
    "    - The ways that the patterns of commuting/migration differ from the model predictions - where we might get more migrant/commuter flows than we would expect\n",
    "    - How the model parameters vary over time - for example how does distance / cost of travel affect flows over time? Are people prepared to travel further or less far than before?"
   ]
  },
  {
   "cell_type": "markdown",
   "id": "2c928b92-57db-464f-a450-6dd6ca1bf8af",
   "metadata": {},
   "source": [
    "(comments)\n",
    "- in the spatial interaction model the aim is to understand the beta value\n",
    "- we calculate the balance factors e bacause of that we use all the variables to calibrate\n",
    "- but in the double contaisnt we only considering the flows but first we  just find the goood beta , and the step number two we focused in the origin in the destinations \n",
    "- we use the beta to calculate the new origins in destinations\n",
    "- beta doesnt change unless the mode of transport not changed"
   ]
  },
  {
   "cell_type": "markdown",
   "id": "f88292f1-815b-4e0b-a0b9-6a40e1e3e38f",
   "metadata": {
    "tags": []
   },
   "source": [
    "#### 3.2 Calibrate the parameter"
   ]
  },
  {
   "cell_type": "markdown",
   "id": "dee88daa-e36b-4f4c-8e9a-0a947acf63be",
   "metadata": {},
   "source": [
    "Using the information of population, jobs and flows, select a spatial interaction model and calibrate the parameter for the cost function (usually denoted as ). It is essential that you justify the model selected.\n",
    "\n",
    "- Here I need to choose a model that I explained below and also justify my choice"
   ]
  },
  {
   "cell_type": "markdown",
   "id": "70f9ac0e-4e0d-47ee-8be0-6a462fd1593f",
   "metadata": {
    "tags": []
   },
   "source": [
    "### 4. Scenarios\n",
    "\n",
    "- dont forget to calibrate your model. The number of people do not disappear\n",
    "- cost functions( research more about this)\n",
    "\n",
    "- two values of value of the parameter in the cost functions\n"
   ]
  },
  {
   "cell_type": "markdown",
   "id": "fa6403c8-3178-4fd3-9dad-2b78aea2861c",
   "metadata": {},
   "source": [
    "#### 4.1 Scenario A\n",
    "- in the case of Cannary Wharf you just reduced the number of jobs, that means you are just reducing the number of Job Attraction to Cannary wahrf, but those people remain in the city, so they just will be redistributed for other area of the city"
   ]
  },
  {
   "cell_type": "markdown",
   "id": "22f6715b-5fb7-4ce5-b984-4196ec617832",
   "metadata": {},
   "source": [
    "#### 4.2 Scenario B"
   ]
  },
  {
   "cell_type": "markdown",
   "id": "7917a691-9c32-43cb-859d-3dc0f0e10bf9",
   "metadata": {},
   "source": [
    "#### 4.3 Discussion"
   ]
  },
  {
   "cell_type": "code",
   "execution_count": null,
   "id": "4b37630b-5dba-450d-9222-4c6fe100febe",
   "metadata": {},
   "outputs": [],
   "source": []
  }
 ],
 "metadata": {
  "kernelspec": {
   "display_name": "Python 3 (ipykernel)",
   "language": "python",
   "name": "python3"
  },
  "language_info": {
   "codemirror_mode": {
    "name": "ipython",
    "version": 3
   },
   "file_extension": ".py",
   "mimetype": "text/x-python",
   "name": "python",
   "nbconvert_exporter": "python",
   "pygments_lexer": "ipython3",
   "version": "3.10.5"
  }
 },
 "nbformat": 4,
 "nbformat_minor": 5
}
